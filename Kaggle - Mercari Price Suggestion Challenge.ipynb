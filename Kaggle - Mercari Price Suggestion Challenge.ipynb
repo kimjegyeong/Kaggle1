{
 "cells": [
  {
   "cell_type": "markdown",
   "metadata": {},
   "source": [
    "# Kaggle : Mercari Price Suggestion Challenge\n",
    "## Advanced Data Mining Final Presentation\n",
    "### 20176005 Jegyeong Kim\n"
   ]
  },
  {
   "cell_type": "code",
   "execution_count": 298,
   "metadata": {
    "collapsed": true
   },
   "outputs": [],
   "source": [
    "import pandas as pd\n",
    "import numpy as np\n",
    "from IPython.display import display\n",
    "import re\n",
    "import seaborn as sns\n",
    "import matplotlib.pyplot as plt\n",
    "import gensim\n",
    "from gensim.models import Doc2Vec\n",
    "from nltk.corpus import stopwords\n",
    "from nltk import word_tokenize\n",
    "from nltk.stem.wordnet import WordNetLemmatizer\n",
    "from collections import namedtuple\n",
    "from sklearn.preprocessing import LabelBinarizer\n",
    "from scipy.sparse import csr_matrix, hstack\n",
    "import scipy\n",
    "\n",
    "%matplotlib inline"
   ]
  },
  {
   "cell_type": "code",
   "execution_count": 2,
   "metadata": {
    "collapsed": true
   },
   "outputs": [],
   "source": [
    "path = 'C:\\\\Users\\\\Rainbow\\\\Desktop\\\\adm\\\\'"
   ]
  },
  {
   "cell_type": "code",
   "execution_count": 145,
   "metadata": {
    "collapsed": true
   },
   "outputs": [],
   "source": [
    "train = pd.read_csv(path+'train.tsv', sep='\\t')\n",
    "test = pd. read_csv(path+'test.tsv', sep='\\t')"
   ]
  },
  {
   "cell_type": "code",
   "execution_count": 146,
   "metadata": {},
   "outputs": [
    {
     "data": {
      "text/html": [
       "<div>\n",
       "<style>\n",
       "    .dataframe thead tr:only-child th {\n",
       "        text-align: right;\n",
       "    }\n",
       "\n",
       "    .dataframe thead th {\n",
       "        text-align: left;\n",
       "    }\n",
       "\n",
       "    .dataframe tbody tr th {\n",
       "        vertical-align: top;\n",
       "    }\n",
       "</style>\n",
       "<table border=\"1\" class=\"dataframe\">\n",
       "  <thead>\n",
       "    <tr style=\"text-align: right;\">\n",
       "      <th></th>\n",
       "      <th>train_id</th>\n",
       "      <th>name</th>\n",
       "      <th>item_condition_id</th>\n",
       "      <th>category_name</th>\n",
       "      <th>brand_name</th>\n",
       "      <th>price</th>\n",
       "      <th>shipping</th>\n",
       "      <th>item_description</th>\n",
       "    </tr>\n",
       "  </thead>\n",
       "  <tbody>\n",
       "    <tr>\n",
       "      <th>0</th>\n",
       "      <td>0</td>\n",
       "      <td>MLB Cincinnati Reds T Shirt Size XL</td>\n",
       "      <td>3</td>\n",
       "      <td>Men/Tops/T-shirts</td>\n",
       "      <td>NaN</td>\n",
       "      <td>10.0</td>\n",
       "      <td>1</td>\n",
       "      <td>No description yet</td>\n",
       "    </tr>\n",
       "    <tr>\n",
       "      <th>1</th>\n",
       "      <td>1</td>\n",
       "      <td>Razer BlackWidow Chroma Keyboard</td>\n",
       "      <td>3</td>\n",
       "      <td>Electronics/Computers &amp; Tablets/Components &amp; P...</td>\n",
       "      <td>Razer</td>\n",
       "      <td>52.0</td>\n",
       "      <td>0</td>\n",
       "      <td>This keyboard is in great condition and works ...</td>\n",
       "    </tr>\n",
       "    <tr>\n",
       "      <th>2</th>\n",
       "      <td>2</td>\n",
       "      <td>AVA-VIV Blouse</td>\n",
       "      <td>1</td>\n",
       "      <td>Women/Tops &amp; Blouses/Blouse</td>\n",
       "      <td>Target</td>\n",
       "      <td>10.0</td>\n",
       "      <td>1</td>\n",
       "      <td>Adorable top with a hint of lace and a key hol...</td>\n",
       "    </tr>\n",
       "    <tr>\n",
       "      <th>3</th>\n",
       "      <td>3</td>\n",
       "      <td>Leather Horse Statues</td>\n",
       "      <td>1</td>\n",
       "      <td>Home/Home Décor/Home Décor Accents</td>\n",
       "      <td>NaN</td>\n",
       "      <td>35.0</td>\n",
       "      <td>1</td>\n",
       "      <td>New with tags. Leather horses. Retail for [rm]...</td>\n",
       "    </tr>\n",
       "    <tr>\n",
       "      <th>4</th>\n",
       "      <td>4</td>\n",
       "      <td>24K GOLD plated rose</td>\n",
       "      <td>1</td>\n",
       "      <td>Women/Jewelry/Necklaces</td>\n",
       "      <td>NaN</td>\n",
       "      <td>44.0</td>\n",
       "      <td>0</td>\n",
       "      <td>Complete with certificate of authenticity</td>\n",
       "    </tr>\n",
       "  </tbody>\n",
       "</table>\n",
       "</div>"
      ],
      "text/plain": [
       "   train_id                                 name  item_condition_id  \\\n",
       "0         0  MLB Cincinnati Reds T Shirt Size XL                  3   \n",
       "1         1     Razer BlackWidow Chroma Keyboard                  3   \n",
       "2         2                       AVA-VIV Blouse                  1   \n",
       "3         3                Leather Horse Statues                  1   \n",
       "4         4                 24K GOLD plated rose                  1   \n",
       "\n",
       "                                       category_name brand_name  price  \\\n",
       "0                                  Men/Tops/T-shirts        NaN   10.0   \n",
       "1  Electronics/Computers & Tablets/Components & P...      Razer   52.0   \n",
       "2                        Women/Tops & Blouses/Blouse     Target   10.0   \n",
       "3                 Home/Home Décor/Home Décor Accents        NaN   35.0   \n",
       "4                            Women/Jewelry/Necklaces        NaN   44.0   \n",
       "\n",
       "   shipping                                   item_description  \n",
       "0         1                                 No description yet  \n",
       "1         0  This keyboard is in great condition and works ...  \n",
       "2         1  Adorable top with a hint of lace and a key hol...  \n",
       "3         1  New with tags. Leather horses. Retail for [rm]...  \n",
       "4         0          Complete with certificate of authenticity  "
      ]
     },
     "execution_count": 146,
     "metadata": {},
     "output_type": "execute_result"
    }
   ],
   "source": [
    "train.head()"
   ]
  },
  {
   "cell_type": "code",
   "execution_count": 147,
   "metadata": {},
   "outputs": [
    {
     "data": {
      "text/html": [
       "<div>\n",
       "<style>\n",
       "    .dataframe thead tr:only-child th {\n",
       "        text-align: right;\n",
       "    }\n",
       "\n",
       "    .dataframe thead th {\n",
       "        text-align: left;\n",
       "    }\n",
       "\n",
       "    .dataframe tbody tr th {\n",
       "        vertical-align: top;\n",
       "    }\n",
       "</style>\n",
       "<table border=\"1\" class=\"dataframe\">\n",
       "  <thead>\n",
       "    <tr style=\"text-align: right;\">\n",
       "      <th></th>\n",
       "      <th>test_id</th>\n",
       "      <th>name</th>\n",
       "      <th>item_condition_id</th>\n",
       "      <th>category_name</th>\n",
       "      <th>brand_name</th>\n",
       "      <th>shipping</th>\n",
       "      <th>item_description</th>\n",
       "    </tr>\n",
       "  </thead>\n",
       "  <tbody>\n",
       "    <tr>\n",
       "      <th>0</th>\n",
       "      <td>0</td>\n",
       "      <td>Breast cancer \"I fight like a girl\" ring</td>\n",
       "      <td>1</td>\n",
       "      <td>Women/Jewelry/Rings</td>\n",
       "      <td>NaN</td>\n",
       "      <td>1</td>\n",
       "      <td>Size 7</td>\n",
       "    </tr>\n",
       "    <tr>\n",
       "      <th>1</th>\n",
       "      <td>1</td>\n",
       "      <td>25 pcs NEW 7.5\"x12\" Kraft Bubble Mailers</td>\n",
       "      <td>1</td>\n",
       "      <td>Other/Office supplies/Shipping Supplies</td>\n",
       "      <td>NaN</td>\n",
       "      <td>1</td>\n",
       "      <td>25 pcs NEW 7.5\"x12\" Kraft Bubble Mailers Lined...</td>\n",
       "    </tr>\n",
       "    <tr>\n",
       "      <th>2</th>\n",
       "      <td>2</td>\n",
       "      <td>Coach bag</td>\n",
       "      <td>1</td>\n",
       "      <td>Vintage &amp; Collectibles/Bags and Purses/Handbag</td>\n",
       "      <td>Coach</td>\n",
       "      <td>1</td>\n",
       "      <td>Brand new coach bag. Bought for [rm] at a Coac...</td>\n",
       "    </tr>\n",
       "    <tr>\n",
       "      <th>3</th>\n",
       "      <td>3</td>\n",
       "      <td>Floral Kimono</td>\n",
       "      <td>2</td>\n",
       "      <td>Women/Sweaters/Cardigan</td>\n",
       "      <td>NaN</td>\n",
       "      <td>0</td>\n",
       "      <td>-floral kimono -never worn -lightweight and pe...</td>\n",
       "    </tr>\n",
       "    <tr>\n",
       "      <th>4</th>\n",
       "      <td>4</td>\n",
       "      <td>Life after Death</td>\n",
       "      <td>3</td>\n",
       "      <td>Other/Books/Religion &amp; Spirituality</td>\n",
       "      <td>NaN</td>\n",
       "      <td>1</td>\n",
       "      <td>Rediscovering life after the loss of a loved o...</td>\n",
       "    </tr>\n",
       "  </tbody>\n",
       "</table>\n",
       "</div>"
      ],
      "text/plain": [
       "   test_id                                      name  item_condition_id  \\\n",
       "0        0  Breast cancer \"I fight like a girl\" ring                  1   \n",
       "1        1  25 pcs NEW 7.5\"x12\" Kraft Bubble Mailers                  1   \n",
       "2        2                                 Coach bag                  1   \n",
       "3        3                             Floral Kimono                  2   \n",
       "4        4                          Life after Death                  3   \n",
       "\n",
       "                                    category_name brand_name  shipping  \\\n",
       "0                             Women/Jewelry/Rings        NaN         1   \n",
       "1         Other/Office supplies/Shipping Supplies        NaN         1   \n",
       "2  Vintage & Collectibles/Bags and Purses/Handbag      Coach         1   \n",
       "3                         Women/Sweaters/Cardigan        NaN         0   \n",
       "4             Other/Books/Religion & Spirituality        NaN         1   \n",
       "\n",
       "                                    item_description  \n",
       "0                                             Size 7  \n",
       "1  25 pcs NEW 7.5\"x12\" Kraft Bubble Mailers Lined...  \n",
       "2  Brand new coach bag. Bought for [rm] at a Coac...  \n",
       "3  -floral kimono -never worn -lightweight and pe...  \n",
       "4  Rediscovering life after the loss of a loved o...  "
      ]
     },
     "execution_count": 147,
     "metadata": {},
     "output_type": "execute_result"
    }
   ],
   "source": [
    "test.head()"
   ]
  },
  {
   "cell_type": "code",
   "execution_count": 148,
   "metadata": {},
   "outputs": [
    {
     "data": {
      "text/html": [
       "<div>\n",
       "<style>\n",
       "    .dataframe thead tr:only-child th {\n",
       "        text-align: right;\n",
       "    }\n",
       "\n",
       "    .dataframe thead th {\n",
       "        text-align: left;\n",
       "    }\n",
       "\n",
       "    .dataframe tbody tr th {\n",
       "        vertical-align: top;\n",
       "    }\n",
       "</style>\n",
       "<table border=\"1\" class=\"dataframe\">\n",
       "  <thead>\n",
       "    <tr style=\"text-align: right;\">\n",
       "      <th></th>\n",
       "      <th>brand_name</th>\n",
       "      <th>category_name</th>\n",
       "      <th>item_condition_id</th>\n",
       "      <th>item_description</th>\n",
       "      <th>name</th>\n",
       "      <th>price</th>\n",
       "      <th>shipping</th>\n",
       "      <th>test_id</th>\n",
       "      <th>train_id</th>\n",
       "    </tr>\n",
       "  </thead>\n",
       "  <tbody>\n",
       "    <tr>\n",
       "      <th>0</th>\n",
       "      <td>NaN</td>\n",
       "      <td>Men/Tops/T-shirts</td>\n",
       "      <td>3</td>\n",
       "      <td>No description yet</td>\n",
       "      <td>MLB Cincinnati Reds T Shirt Size XL</td>\n",
       "      <td>10.0</td>\n",
       "      <td>1</td>\n",
       "      <td>NaN</td>\n",
       "      <td>0.0</td>\n",
       "    </tr>\n",
       "    <tr>\n",
       "      <th>1</th>\n",
       "      <td>Razer</td>\n",
       "      <td>Electronics/Computers &amp; Tablets/Components &amp; P...</td>\n",
       "      <td>3</td>\n",
       "      <td>This keyboard is in great condition and works ...</td>\n",
       "      <td>Razer BlackWidow Chroma Keyboard</td>\n",
       "      <td>52.0</td>\n",
       "      <td>0</td>\n",
       "      <td>NaN</td>\n",
       "      <td>1.0</td>\n",
       "    </tr>\n",
       "    <tr>\n",
       "      <th>2</th>\n",
       "      <td>Target</td>\n",
       "      <td>Women/Tops &amp; Blouses/Blouse</td>\n",
       "      <td>1</td>\n",
       "      <td>Adorable top with a hint of lace and a key hol...</td>\n",
       "      <td>AVA-VIV Blouse</td>\n",
       "      <td>10.0</td>\n",
       "      <td>1</td>\n",
       "      <td>NaN</td>\n",
       "      <td>2.0</td>\n",
       "    </tr>\n",
       "    <tr>\n",
       "      <th>3</th>\n",
       "      <td>NaN</td>\n",
       "      <td>Home/Home Décor/Home Décor Accents</td>\n",
       "      <td>1</td>\n",
       "      <td>New with tags. Leather horses. Retail for [rm]...</td>\n",
       "      <td>Leather Horse Statues</td>\n",
       "      <td>35.0</td>\n",
       "      <td>1</td>\n",
       "      <td>NaN</td>\n",
       "      <td>3.0</td>\n",
       "    </tr>\n",
       "    <tr>\n",
       "      <th>4</th>\n",
       "      <td>NaN</td>\n",
       "      <td>Women/Jewelry/Necklaces</td>\n",
       "      <td>1</td>\n",
       "      <td>Complete with certificate of authenticity</td>\n",
       "      <td>24K GOLD plated rose</td>\n",
       "      <td>44.0</td>\n",
       "      <td>0</td>\n",
       "      <td>NaN</td>\n",
       "      <td>4.0</td>\n",
       "    </tr>\n",
       "  </tbody>\n",
       "</table>\n",
       "</div>"
      ],
      "text/plain": [
       "  brand_name                                      category_name  \\\n",
       "0        NaN                                  Men/Tops/T-shirts   \n",
       "1      Razer  Electronics/Computers & Tablets/Components & P...   \n",
       "2     Target                        Women/Tops & Blouses/Blouse   \n",
       "3        NaN                 Home/Home Décor/Home Décor Accents   \n",
       "4        NaN                            Women/Jewelry/Necklaces   \n",
       "\n",
       "   item_condition_id                                   item_description  \\\n",
       "0                  3                                 No description yet   \n",
       "1                  3  This keyboard is in great condition and works ...   \n",
       "2                  1  Adorable top with a hint of lace and a key hol...   \n",
       "3                  1  New with tags. Leather horses. Retail for [rm]...   \n",
       "4                  1          Complete with certificate of authenticity   \n",
       "\n",
       "                                  name  price  shipping  test_id  train_id  \n",
       "0  MLB Cincinnati Reds T Shirt Size XL   10.0         1      NaN       0.0  \n",
       "1     Razer BlackWidow Chroma Keyboard   52.0         0      NaN       1.0  \n",
       "2                       AVA-VIV Blouse   10.0         1      NaN       2.0  \n",
       "3                Leather Horse Statues   35.0         1      NaN       3.0  \n",
       "4                 24K GOLD plated rose   44.0         0      NaN       4.0  "
      ]
     },
     "execution_count": 148,
     "metadata": {},
     "output_type": "execute_result"
    }
   ],
   "source": [
    "df = pd.concat([train, test])\n",
    "df.head()"
   ]
  },
  {
   "cell_type": "code",
   "execution_count": 149,
   "metadata": {
    "collapsed": true
   },
   "outputs": [],
   "source": [
    "del train\n",
    "del test"
   ]
  },
  {
   "cell_type": "code",
   "execution_count": 293,
   "metadata": {},
   "outputs": [
    {
     "data": {
      "text/plain": [
       "1482534"
      ]
     },
     "execution_count": 293,
     "metadata": {},
     "output_type": "execute_result"
    }
   ],
   "source": [
    "train_id = df[df['train_id'].notnull()].index.tolist()[-1]\n",
    "train_id"
   ]
  },
  {
   "cell_type": "markdown",
   "metadata": {},
   "source": [
    "#### preprocessing\n",
    "1. 특수문자 제거\n",
    "2. 앞 뒤 공백 제거\n",
    "3. 소문자 처리"
   ]
  },
  {
   "cell_type": "code",
   "execution_count": 150,
   "metadata": {},
   "outputs": [
    {
     "data": {
      "text/html": [
       "<div>\n",
       "<style>\n",
       "    .dataframe thead tr:only-child th {\n",
       "        text-align: right;\n",
       "    }\n",
       "\n",
       "    .dataframe thead th {\n",
       "        text-align: left;\n",
       "    }\n",
       "\n",
       "    .dataframe tbody tr th {\n",
       "        vertical-align: top;\n",
       "    }\n",
       "</style>\n",
       "<table border=\"1\" class=\"dataframe\">\n",
       "  <thead>\n",
       "    <tr style=\"text-align: right;\">\n",
       "      <th></th>\n",
       "      <th>brand_name</th>\n",
       "      <th>category_name</th>\n",
       "      <th>item_condition_id</th>\n",
       "      <th>item_description</th>\n",
       "      <th>name</th>\n",
       "      <th>price</th>\n",
       "      <th>shipping</th>\n",
       "      <th>test_id</th>\n",
       "      <th>train_id</th>\n",
       "    </tr>\n",
       "  </thead>\n",
       "  <tbody>\n",
       "    <tr>\n",
       "      <th>0</th>\n",
       "      <td>NaN</td>\n",
       "      <td>men/tops/t-shirts</td>\n",
       "      <td>3</td>\n",
       "      <td>no description yet</td>\n",
       "      <td>mlb cincinnati reds t shirt size xl</td>\n",
       "      <td>10.0</td>\n",
       "      <td>1</td>\n",
       "      <td>NaN</td>\n",
       "      <td>0.0</td>\n",
       "    </tr>\n",
       "    <tr>\n",
       "      <th>1</th>\n",
       "      <td>razer</td>\n",
       "      <td>electronics/computers &amp; tablets/components &amp; p...</td>\n",
       "      <td>3</td>\n",
       "      <td>this keyboard is in great condition and works ...</td>\n",
       "      <td>razer blackwidow chroma keyboard</td>\n",
       "      <td>52.0</td>\n",
       "      <td>0</td>\n",
       "      <td>NaN</td>\n",
       "      <td>1.0</td>\n",
       "    </tr>\n",
       "    <tr>\n",
       "      <th>2</th>\n",
       "      <td>target</td>\n",
       "      <td>women/tops &amp; blouses/blouse</td>\n",
       "      <td>1</td>\n",
       "      <td>adorable top with a hint of lace and a key hol...</td>\n",
       "      <td>ava viv blouse</td>\n",
       "      <td>10.0</td>\n",
       "      <td>1</td>\n",
       "      <td>NaN</td>\n",
       "      <td>2.0</td>\n",
       "    </tr>\n",
       "    <tr>\n",
       "      <th>3</th>\n",
       "      <td>NaN</td>\n",
       "      <td>home/home décor/home décor accents</td>\n",
       "      <td>1</td>\n",
       "      <td>new with tags leather horses retail for rm eac...</td>\n",
       "      <td>leather horse statues</td>\n",
       "      <td>35.0</td>\n",
       "      <td>1</td>\n",
       "      <td>NaN</td>\n",
       "      <td>3.0</td>\n",
       "    </tr>\n",
       "    <tr>\n",
       "      <th>4</th>\n",
       "      <td>NaN</td>\n",
       "      <td>women/jewelry/necklaces</td>\n",
       "      <td>1</td>\n",
       "      <td>complete with certificate of authenticity</td>\n",
       "      <td>24k gold plated rose</td>\n",
       "      <td>44.0</td>\n",
       "      <td>0</td>\n",
       "      <td>NaN</td>\n",
       "      <td>4.0</td>\n",
       "    </tr>\n",
       "  </tbody>\n",
       "</table>\n",
       "</div>"
      ],
      "text/plain": [
       "  brand_name                                      category_name  \\\n",
       "0        NaN                                  men/tops/t-shirts   \n",
       "1      razer  electronics/computers & tablets/components & p...   \n",
       "2     target                        women/tops & blouses/blouse   \n",
       "3        NaN                 home/home décor/home décor accents   \n",
       "4        NaN                            women/jewelry/necklaces   \n",
       "\n",
       "   item_condition_id                                   item_description  \\\n",
       "0                  3                                 no description yet   \n",
       "1                  3  this keyboard is in great condition and works ...   \n",
       "2                  1  adorable top with a hint of lace and a key hol...   \n",
       "3                  1  new with tags leather horses retail for rm eac...   \n",
       "4                  1          complete with certificate of authenticity   \n",
       "\n",
       "                                  name  price  shipping  test_id  train_id  \n",
       "0  mlb cincinnati reds t shirt size xl   10.0         1      NaN       0.0  \n",
       "1     razer blackwidow chroma keyboard   52.0         0      NaN       1.0  \n",
       "2                       ava viv blouse   10.0         1      NaN       2.0  \n",
       "3                leather horse statues   35.0         1      NaN       3.0  \n",
       "4                 24k gold plated rose   44.0         0      NaN       4.0  "
      ]
     },
     "execution_count": 150,
     "metadata": {},
     "output_type": "execute_result"
    }
   ],
   "source": [
    "## 특수문자 제거, 앞뒤 공백 제거, 소문자 처리\n",
    "df['brand_name'] = df['brand_name'].str.lower().str.strip()\n",
    "df['name'] = df['name'].str.lower().str.strip()\n",
    "df['item_description'] = df['item_description'].str.lower().str.strip()\n",
    "df['category_name'] = df['category_name'].str.lower().str.strip()\n",
    "\n",
    "df.loc[df['brand_name'].notnull(), 'brand_name'] = df.loc[df['brand_name'].notnull(), 'brand_name'].map(lambda x: re.sub(r'\\W+', ' ', x))\n",
    "df['name'] = df['name'].map(lambda x: re.sub(r'\\W+', ' ', x))\n",
    "df.loc[df['item_description'].notnull(), 'item_description'] = df.loc[df['item_description'].notnull(), 'item_description'].map(lambda x: re.sub(r'\\W+', ' ', x))\n",
    "df.head()"
   ]
  },
  {
   "cell_type": "markdown",
   "metadata": {},
   "source": [
    "#  \n",
    "#  1. EDA"
   ]
  },
  {
   "cell_type": "markdown",
   "metadata": {},
   "source": [
    "### (1) Null Check\n",
    "null값 체크"
   ]
  },
  {
   "cell_type": "code",
   "execution_count": 8,
   "metadata": {},
   "outputs": [
    {
     "name": "stdout",
     "output_type": "stream",
     "text": [
      "brand_name            928207\n",
      "category_name           9385\n",
      "item_condition_id          0\n",
      "item_description           4\n",
      "name                       0\n",
      "price                 693359\n",
      "shipping                   0\n",
      "test_id              1482535\n",
      "train_id              693359\n",
      "dtype: int64 \n",
      "\n",
      "brand_name           42 %\n",
      "category_name         0 %\n",
      "item_condition_id     0 %\n",
      "item_description      0 %\n",
      "name                  0 %\n",
      "price                31 %\n",
      "shipping              0 %\n",
      "test_id              68 %\n",
      "train_id             31 %\n",
      "dtype: object\n"
     ]
    }
   ],
   "source": [
    "print(df.isnull().sum(), '\\n')\n",
    "print((df.isnull().sum()/len(df)*100).astype(int).astype(str)+' %')"
   ]
  },
  {
   "cell_type": "markdown",
   "metadata": {},
   "source": [
    "1. brand name\n",
    "2. category name\n",
    "3. item_description\n",
    "에 null값 있음"
   ]
  },
  {
   "cell_type": "markdown",
   "metadata": {},
   "source": [
    "###  \n",
    "#### price"
   ]
  },
  {
   "cell_type": "code",
   "execution_count": 151,
   "metadata": {},
   "outputs": [
    {
     "name": "stdout",
     "output_type": "stream",
     "text": [
      "count    1482535\n",
      "mean          26\n",
      "std           38\n",
      "min            0\n",
      "25%           10\n",
      "50%           17\n",
      "75%           29\n",
      "max         2009\n",
      "Name: price, dtype: int32\n"
     ]
    },
    {
     "data": {
      "text/plain": [
       "Text(0.5,1,'Distribution of the price')"
      ]
     },
     "execution_count": 151,
     "metadata": {},
     "output_type": "execute_result"
    },
    {
     "data": {
      "image/png": "[encoded data removed]",
      "text/plain": [
       "<matplotlib.figure.Figure at 0x1f4c7f74be0>"
      ]
     },
     "metadata": {},
     "output_type": "display_data"
    }
   ],
   "source": [
    "train = df[df['train_id'].notnull()]\n",
    "print(train['price'].describe().astype(int))\n",
    "plt.figure(figsize=(10,6))\n",
    "sns.distplot(train.price, bins=100)\n",
    "plt.title('Distribution of the price', fontsize =20)"
   ]
  },
  {
   "cell_type": "markdown",
   "metadata": {},
   "source": [
    "price : 전체적으로 매우 skewed된 데이터 -> log값 취해주기\n",
    "###  "
   ]
  },
  {
   "cell_type": "code",
   "execution_count": 145,
   "metadata": {},
   "outputs": [
    {
     "name": "stdout",
     "output_type": "stream",
     "text": [
      "count    1.482535e+06\n",
      "mean     2.979059e+00\n",
      "std      7.492094e-01\n",
      "min      0.000000e+00\n",
      "25%      2.397895e+00\n",
      "50%      2.890372e+00\n",
      "75%      3.401197e+00\n",
      "max      7.605890e+00\n",
      "Name: price, dtype: float64\n"
     ]
    },
    {
     "data": {
      "text/plain": [
       "Text(0.5,1,'Distribution of the log price')"
      ]
     },
     "execution_count": 145,
     "metadata": {},
     "output_type": "execute_result"
    },
    {
     "data": {
      "image/png": "[encoded data removed]",
      "text/plain": [
       "<matplotlib.figure.Figure at 0x2ae631fb160>"
      ]
     },
     "metadata": {},
     "output_type": "display_data"
    }
   ],
   "source": [
    "# Price에 로그 씌우기\n",
    "print(np.log(train['price']+1).describe())\n",
    "plt.figure(figsize=(10,6))\n",
    "sns.distplot(np.log(train['price']+1), bins=100)\n",
    "plt.title('Distribution of the log price', fontsize =20)"
   ]
  },
  {
   "cell_type": "code",
   "execution_count": 242,
   "metadata": {},
   "outputs": [
    {
     "name": "stderr",
     "output_type": "stream",
     "text": [
      "C:\\ProgramData\\Anaconda3\\lib\\site-packages\\ipykernel_launcher.py:1: SettingWithCopyWarning: \n",
      "A value is trying to be set on a copy of a slice from a DataFrame.\n",
      "Try using .loc[row_indexer,col_indexer] = value instead\n",
      "\n",
      "See the caveats in the documentation: http://pandas.pydata.org/pandas-docs/stable/indexing.html#indexing-view-versus-copy\n",
      "  \"\"\"Entry point for launching an IPython kernel.\n"
     ]
    }
   ],
   "source": [
    "train['log_price'] = np.logp1(train['price'])\n",
    "df.loc[df['train_id'].notnull(), 'log_price'] = np.logp1(df.loc[df['train_id'].notnull(), 'price'])"
   ]
  },
  {
   "cell_type": "markdown",
   "metadata": {},
   "source": [
    "price에 0값 있음 -> log(price + 1)로 대체  \n",
    "완전하진 않지만 전체적으로 정규분포를 따름 -> Target Variable로 사용!"
   ]
  },
  {
   "cell_type": "markdown",
   "metadata": {},
   "source": [
    "##  \n",
    "### (2) Null Imputation\n",
    "결측치 대체"
   ]
  },
  {
   "cell_type": "markdown",
   "metadata": {},
   "source": [
    "#### item_description\n",
    "nan -> no description yet"
   ]
  },
  {
   "cell_type": "code",
   "execution_count": 74,
   "metadata": {},
   "outputs": [
    {
     "data": {
      "text/plain": [
       "121002"
      ]
     },
     "execution_count": 74,
     "metadata": {},
     "output_type": "execute_result"
    }
   ],
   "source": [
    "len(df[df['item_description'].astype(str)=='no description yet'])"
   ]
  },
  {
   "cell_type": "code",
   "execution_count": 153,
   "metadata": {},
   "outputs": [
    {
     "data": {
      "text/plain": [
       "0"
      ]
     },
     "execution_count": 153,
     "metadata": {},
     "output_type": "execute_result"
    }
   ],
   "source": [
    "## null 제거\n",
    "df['item_description'] = df['item_description'].fillna('no description yet')\n",
    "df['item_description'].isnull().sum()"
   ]
  },
  {
   "cell_type": "markdown",
   "metadata": {},
   "source": [
    "###  \n",
    "#### category_name\n",
    "1. Doc2Vec (X)\n",
    "2. TFIDF - cosine similarity"
   ]
  },
  {
   "cell_type": "code",
   "execution_count": 12,
   "metadata": {},
   "outputs": [
    {
     "data": {
      "text/html": [
       "<div>\n",
       "<style>\n",
       "    .dataframe thead tr:only-child th {\n",
       "        text-align: right;\n",
       "    }\n",
       "\n",
       "    .dataframe thead th {\n",
       "        text-align: left;\n",
       "    }\n",
       "\n",
       "    .dataframe tbody tr th {\n",
       "        vertical-align: top;\n",
       "    }\n",
       "</style>\n",
       "<table border=\"1\" class=\"dataframe\">\n",
       "  <thead>\n",
       "    <tr style=\"text-align: right;\">\n",
       "      <th></th>\n",
       "      <th>brand_name</th>\n",
       "      <th>category_name</th>\n",
       "      <th>item_condition_id</th>\n",
       "      <th>item_description</th>\n",
       "      <th>name</th>\n",
       "      <th>price</th>\n",
       "      <th>shipping</th>\n",
       "      <th>test_id</th>\n",
       "      <th>train_id</th>\n",
       "    </tr>\n",
       "  </thead>\n",
       "  <tbody>\n",
       "    <tr>\n",
       "      <th>122</th>\n",
       "      <td>NaN</td>\n",
       "      <td>NaN</td>\n",
       "      <td>3</td>\n",
       "      <td>sizes and info of clothes can be found on thei...</td>\n",
       "      <td>bundle</td>\n",
       "      <td>59.0</td>\n",
       "      <td>0</td>\n",
       "      <td>NaN</td>\n",
       "      <td>122.0</td>\n",
       "    </tr>\n",
       "    <tr>\n",
       "      <th>155</th>\n",
       "      <td>NaN</td>\n",
       "      <td>NaN</td>\n",
       "      <td>3</td>\n",
       "      <td>for aferg16</td>\n",
       "      <td>3 nora roberts books</td>\n",
       "      <td>10.0</td>\n",
       "      <td>1</td>\n",
       "      <td>NaN</td>\n",
       "      <td>155.0</td>\n",
       "    </tr>\n",
       "    <tr>\n",
       "      <th>258</th>\n",
       "      <td>NaN</td>\n",
       "      <td>NaN</td>\n",
       "      <td>5</td>\n",
       "      <td>powers on no screen display no external damage...</td>\n",
       "      <td>acer laptop</td>\n",
       "      <td>14.0</td>\n",
       "      <td>0</td>\n",
       "      <td>NaN</td>\n",
       "      <td>258.0</td>\n",
       "    </tr>\n",
       "    <tr>\n",
       "      <th>984</th>\n",
       "      <td>michael kors</td>\n",
       "      <td>NaN</td>\n",
       "      <td>4</td>\n",
       "      <td>no description yet</td>\n",
       "      <td>authentic brwn michael kors makeup stain</td>\n",
       "      <td>18.0</td>\n",
       "      <td>0</td>\n",
       "      <td>NaN</td>\n",
       "      <td>984.0</td>\n",
       "    </tr>\n",
       "    <tr>\n",
       "      <th>1185</th>\n",
       "      <td>nickelodeon</td>\n",
       "      <td>NaN</td>\n",
       "      <td>3</td>\n",
       "      <td>teenage mutant ninja turtle van april o neil f...</td>\n",
       "      <td>teenage mutant ninja turtle van extras</td>\n",
       "      <td>9.0</td>\n",
       "      <td>0</td>\n",
       "      <td>NaN</td>\n",
       "      <td>1185.0</td>\n",
       "    </tr>\n",
       "  </tbody>\n",
       "</table>\n",
       "</div>"
      ],
      "text/plain": [
       "        brand_name category_name  item_condition_id  \\\n",
       "122            NaN           NaN                  3   \n",
       "155            NaN           NaN                  3   \n",
       "258            NaN           NaN                  5   \n",
       "984   michael kors           NaN                  4   \n",
       "1185   nickelodeon           NaN                  3   \n",
       "\n",
       "                                       item_description  \\\n",
       "122   sizes and info of clothes can be found on thei...   \n",
       "155                                        for aferg16    \n",
       "258   powers on no screen display no external damage...   \n",
       "984                                  no description yet   \n",
       "1185  teenage mutant ninja turtle van april o neil f...   \n",
       "\n",
       "                                          name  price  shipping  test_id  \\\n",
       "122                                     bundle   59.0         0      NaN   \n",
       "155                       3 nora roberts books   10.0         1      NaN   \n",
       "258                                acer laptop   14.0         0      NaN   \n",
       "984   authentic brwn michael kors makeup stain   18.0         0      NaN   \n",
       "1185    teenage mutant ninja turtle van extras    9.0         0      NaN   \n",
       "\n",
       "      train_id  \n",
       "122      122.0  \n",
       "155      155.0  \n",
       "258      258.0  \n",
       "984      984.0  \n",
       "1185    1185.0  "
      ]
     },
     "execution_count": 12,
     "metadata": {},
     "output_type": "execute_result"
    }
   ],
   "source": [
    "df[df['category_name'].isnull()].head()"
   ]
  },
  {
   "cell_type": "markdown",
   "metadata": {},
   "source": [
    "##### Doc2Vec"
   ]
  },
  {
   "cell_type": "code",
   "execution_count": null,
   "metadata": {
    "collapsed": true
   },
   "outputs": [],
   "source": [
    "class LabeledLineSentence(object):\n",
    "    def __init__(self, filename):\n",
    "        self.filename = filename\n",
    "    def __iter__(self):\n",
    "        for uid, line in enumerate(open(filename)):\n",
    "            yield LabeledSentence(words=line.split(), labels=['SENT_%s' % uid])\n",
    "\n",
    "model = Doc2Vec(alpha=0.025, min_alpha=0.025) \n",
    "model.build_vocab(sentences)\n",
    "for epoch in range(10):\n",
    "    model.train(sentences)\n",
    "    model.alpha -= 0.002 \n",
    "    model.min_alpha = model.alpha  "
   ]
  },
  {
   "cell_type": "markdown",
   "metadata": {},
   "source": [
    "##### TFIDF - Consine Similarity"
   ]
  },
  {
   "cell_type": "markdown",
   "metadata": {},
   "source": [
    "name이 너무 짧을 경우 item_description 사용"
   ]
  },
  {
   "cell_type": "code",
   "execution_count": 13,
   "metadata": {
    "collapsed": true
   },
   "outputs": [],
   "source": [
    "df.loc[df['name'].str.split(' ').str.len()>1, 'infer'] = df.loc[df['name'].str.split(' ').str.len()>1, 'name'] \n",
    "df.loc[df['name'].str.split(' ').str.len()<=1, 'infer'] = df.loc[df['name'].str.split(' ').str.len()<=1, 'item_description'] "
   ]
  },
  {
   "cell_type": "code",
   "execution_count": 261,
   "metadata": {
    "collapsed": true
   },
   "outputs": [],
   "source": [
    "from sklearn.feature_extraction.text import TfidfVectorizer, CountVectorizer\n",
    "from nltk.stem.porter import PorterStemmer\n",
    "\n",
    "stemmer = PorterStemmer()\n",
    "stop_words = set(stopwords.words('english'))\n",
    "\n",
    "def stem_tokens(tokens, stemmer):\n",
    "    stemmed = []\n",
    "    for item in tokens:\n",
    "        stemmed.append(stemmer.stem(item))\n",
    "    return stemmed\n",
    "\n",
    "def tokenize(text):\n",
    "    tokens = word_tokenize(text)\n",
    "    stems = stem_tokens(tokens, stemmer)\n",
    "    return stems"
   ]
  },
  {
   "cell_type": "code",
   "execution_count": 15,
   "metadata": {
    "collapsed": true
   },
   "outputs": [],
   "source": [
    "tfidf = TfidfVectorizer(tokenizer=tokenize, stop_words=stop_words)\n",
    "matrix_infer = tfidf.fit_transform(df['infer'])"
   ]
  },
  {
   "cell_type": "code",
   "execution_count": 24,
   "metadata": {
    "collapsed": true
   },
   "outputs": [],
   "source": [
    "tfidf = TfidfVectorizer(tokenizer=tokenize, stop_words=stop_words, min_df=10)\n",
    "matrix_name = tfidf.fit_transform(df['name'])"
   ]
  },
  {
   "cell_type": "code",
   "execution_count": 25,
   "metadata": {
    "collapsed": true
   },
   "outputs": [],
   "source": [
    "tfidf = TfidfVectorizer(tokenizer=tokenize, stop_words=stop_words, min_df=10)\n",
    "matrix_description = tfidf.fit_transform(df['item_description'])"
   ]
  },
  {
   "cell_type": "code",
   "execution_count": 26,
   "metadata": {},
   "outputs": [
    {
     "name": "stdout",
     "output_type": "stream",
     "text": [
      "Wall time: 533 ms\n",
      "Wall time: 2.17 s\n"
     ]
    }
   ],
   "source": [
    "import pickle\n",
    "\n",
    "def save_pickle(matrix, filename):\n",
    "    with open(filename, 'wb') as outfile:\n",
    "        pickle.dump(matrix, outfile, pickle.HIGHEST_PROTOCOL)\n",
    "def load_pickle(filename):\n",
    "    with open(filename, 'rb') as infile:\n",
    "        matrix = pickle.load(infile)    \n",
    "    return matrix    \n",
    "\n",
    "%time save_pickle(matrix_infer, path+'matrix_infer')\n",
    "%time save_pickle(matrix_name, path+'matrix_name')\n",
    "%time save_pickle(matrix_description, path+'matrix_discription')"
   ]
  },
  {
   "cell_type": "code",
   "execution_count": 37,
   "metadata": {
    "collapsed": true
   },
   "outputs": [],
   "source": [
    "from sklearn.metrics.pairwise import linear_kernel\n",
    " \n",
    "def find_similar(tfidf_matrix, index, top_n = 5):\n",
    "    cosine_similarities = linear_kernel(tfidf_matrix[index:index+1], tfidf_matrix).flatten()\n",
    "    related_docs_indices = [i for i in cosine_similarities.argsort()[::-1] if i != index]\n",
    "    return [index for index in related_docs_indices][0:top_n]"
   ]
  },
  {
   "cell_type": "markdown",
   "metadata": {},
   "source": [
    "###  \n",
    "유사한 category 뽑아보기"
   ]
  },
  {
   "cell_type": "code",
   "execution_count": 47,
   "metadata": {},
   "outputs": [
    {
     "name": "stdout",
     "output_type": "stream",
     "text": [
      "muscle t shirt women/tops & blouses/t-shirts\n",
      "muscle t shirt women/tops & blouses/t-shirts\n",
      "muscle shirt women/tops & blouses/t-shirts\n",
      "muscle shirt women/tops & blouses/tank, cami\n",
      "pink muscle shirt women/tops & blouses/t-shirts\n",
      "pink muscle shirt women/tops & blouses/tank, cami\n"
     ]
    }
   ],
   "source": [
    "i = 100\n",
    "print(df.iloc[i]['name'], df.iloc[i]['category_name'])\n",
    "for index in find_similar(matrix_infer, i, top_n=5):\n",
    "    print(df.iloc[index]['name'], df.iloc[index]['category_name'])"
   ]
  },
  {
   "cell_type": "code",
   "execution_count": 35,
   "metadata": {},
   "outputs": [
    {
     "name": "stdout",
     "output_type": "stream",
     "text": [
      "0\n",
      "20\n",
      "40\n",
      "60\n",
      "80\n",
      "100\n",
      "120\n",
      "140\n",
      "160\n",
      "180\n",
      "200\n",
      "220\n",
      "240\n",
      "260\n",
      "280\n",
      "300\n",
      "320\n",
      "340\n",
      "360\n",
      "380\n",
      "400\n",
      "420\n",
      "440\n",
      "460\n",
      "480\n",
      "500\n",
      "520\n",
      "540\n",
      "560\n",
      "580\n",
      "600\n",
      "620\n",
      "640\n",
      "660\n",
      "680\n",
      "700\n",
      "720\n",
      "740\n",
      "760\n",
      "780\n",
      "800\n",
      "820\n",
      "840\n",
      "860\n",
      "880\n",
      "900\n",
      "920\n",
      "940\n",
      "960\n",
      "980\n",
      "1000\n",
      "1020\n",
      "1040\n",
      "1060\n",
      "1080\n",
      "1100\n",
      "1120\n",
      "1140\n",
      "1160\n",
      "1180\n",
      "1200\n",
      "1220\n",
      "1240\n",
      "1260\n",
      "1280\n",
      "1300\n",
      "1320\n",
      "1340\n",
      "1360\n",
      "1380\n",
      "1400\n",
      "1420\n",
      "1440\n",
      "1460\n",
      "1480\n",
      "1500\n",
      "1520\n",
      "1540\n",
      "1560\n",
      "1580\n",
      "1600\n",
      "1620\n",
      "1640\n",
      "1660\n",
      "1680\n",
      "1700\n",
      "1720\n",
      "1740\n",
      "1760\n",
      "1780\n",
      "1800\n",
      "1820\n",
      "1840\n",
      "1860\n",
      "1880\n",
      "1900\n",
      "1920\n",
      "1940\n",
      "1960\n",
      "1980\n",
      "2000\n",
      "2020\n",
      "2040\n",
      "2060\n",
      "2080\n",
      "2100\n",
      "2120\n",
      "2140\n",
      "2160\n",
      "2180\n",
      "2200\n",
      "2220\n",
      "2240\n",
      "2260\n",
      "2280\n",
      "2300\n",
      "2320\n",
      "2340\n",
      "2360\n",
      "2380\n",
      "2400\n",
      "2420\n",
      "2440\n",
      "2460\n",
      "2480\n",
      "2500\n",
      "2520\n",
      "2540\n",
      "2560\n",
      "2580\n",
      "2600\n",
      "2620\n",
      "2640\n",
      "2660\n",
      "2680\n",
      "2700\n",
      "2720\n",
      "2740\n",
      "2760\n",
      "2780\n",
      "2800\n",
      "2820\n",
      "2840\n",
      "2860\n",
      "2880\n",
      "2900\n",
      "2920\n",
      "2940\n",
      "2960\n",
      "2980\n",
      "3000\n",
      "3020\n",
      "3040\n",
      "3060\n",
      "3080\n",
      "3100\n",
      "3120\n",
      "3140\n",
      "3160\n",
      "3180\n",
      "3200\n",
      "3220\n",
      "3240\n",
      "3260\n",
      "3280\n",
      "3300\n",
      "3320\n",
      "3340\n",
      "3360\n",
      "3380\n",
      "3400\n",
      "3420\n",
      "3440\n",
      "3460\n",
      "3480\n",
      "3500\n",
      "3520\n",
      "3540\n",
      "3560\n",
      "3580\n",
      "3600\n",
      "3620\n",
      "3640\n",
      "3660\n",
      "3680\n",
      "3700\n",
      "3720\n",
      "3740\n",
      "3760\n",
      "3780\n",
      "3800\n",
      "3820\n",
      "3840\n",
      "3860\n",
      "3880\n",
      "3900\n",
      "3920\n",
      "3940\n",
      "3960\n",
      "3980\n",
      "4000\n",
      "4020\n",
      "4040\n",
      "4060\n",
      "4080\n",
      "4100\n",
      "4120\n",
      "4140\n",
      "4160\n",
      "4180\n",
      "4200\n",
      "4220\n",
      "4240\n",
      "4260\n",
      "4280\n",
      "4300\n",
      "4320\n",
      "4340\n",
      "4360\n",
      "4380\n",
      "4400\n",
      "4420\n",
      "4440\n",
      "4460\n",
      "4480\n",
      "4500\n",
      "4520\n",
      "4540\n",
      "4560\n",
      "4580\n",
      "4600\n",
      "4620\n",
      "4640\n",
      "4660\n",
      "4680\n",
      "4700\n",
      "4720\n",
      "4740\n",
      "4760\n",
      "4780\n",
      "4800\n",
      "4820\n",
      "4840\n",
      "4860\n",
      "4880\n",
      "4900\n",
      "4920\n",
      "4940\n",
      "4960\n",
      "4980\n",
      "5000\n",
      "5020\n",
      "5040\n",
      "5060\n",
      "5080\n",
      "5100\n",
      "5120\n",
      "5140\n",
      "5160\n",
      "5180\n",
      "5200\n",
      "5220\n",
      "5240\n",
      "5260\n",
      "5280\n",
      "5300\n",
      "5320\n",
      "5340\n",
      "5360\n",
      "5380\n",
      "5400\n",
      "5420\n",
      "5440\n",
      "5460\n",
      "5480\n",
      "5500\n",
      "5520\n",
      "5540\n",
      "5560\n",
      "5580\n",
      "5600\n",
      "5620\n",
      "5640\n",
      "5660\n",
      "5680\n",
      "5700\n",
      "5720\n",
      "5740\n",
      "5760\n",
      "5780\n",
      "5800\n",
      "5820\n",
      "5840\n",
      "5860\n",
      "5880\n",
      "5900\n",
      "5920\n",
      "5940\n",
      "5960\n",
      "5980\n",
      "6000\n",
      "6020\n",
      "6040\n",
      "6060\n",
      "6080\n",
      "6100\n",
      "6120\n",
      "6140\n",
      "6160\n",
      "6180\n",
      "6200\n",
      "6220\n",
      "6240\n",
      "6260\n",
      "6280\n",
      "6300\n",
      "6320\n",
      "6340\n",
      "6360\n",
      "6380\n",
      "6400\n",
      "6420\n",
      "6440\n",
      "6460\n",
      "6480\n",
      "6500\n",
      "6520\n",
      "6540\n",
      "6560\n",
      "6580\n",
      "6600\n",
      "6620\n",
      "6640\n",
      "6660\n",
      "6680\n",
      "6700\n",
      "6720\n",
      "6740\n",
      "6760\n",
      "6780\n",
      "6800\n",
      "6820\n",
      "6840\n",
      "6860\n",
      "6880\n",
      "6900\n",
      "6920\n",
      "6940\n",
      "6960\n",
      "6980\n",
      "7000\n",
      "7020\n",
      "7040\n",
      "7060\n",
      "7080\n",
      "7100\n",
      "7120\n",
      "7140\n",
      "7160\n",
      "7180\n",
      "7200\n",
      "7220\n",
      "7240\n",
      "7260\n",
      "7280\n",
      "7300\n",
      "7320\n",
      "7340\n",
      "7360\n",
      "7380\n",
      "7400\n",
      "7420\n",
      "7440\n",
      "7460\n",
      "7480\n",
      "7500\n",
      "7520\n",
      "7540\n",
      "7560\n",
      "7580\n",
      "7600\n",
      "7620\n",
      "7640\n",
      "7660\n",
      "7680\n",
      "7700\n",
      "7720\n",
      "7740\n",
      "7760\n",
      "7780\n",
      "7800\n",
      "7820\n",
      "7840\n",
      "7860\n",
      "7880\n",
      "7900\n",
      "7920\n",
      "7940\n",
      "7960\n",
      "7980\n",
      "8000\n",
      "8020\n",
      "8040\n",
      "8060\n",
      "8080\n",
      "8100\n",
      "8120\n",
      "8140\n",
      "8160\n",
      "8180\n",
      "8200\n",
      "8220\n",
      "8240\n",
      "8260\n",
      "8280\n",
      "8300\n",
      "8320\n",
      "8340\n",
      "8360\n",
      "8380\n",
      "8400\n",
      "8420\n",
      "8440\n",
      "8460\n",
      "8480\n",
      "8500\n",
      "8520\n",
      "8540\n",
      "8560\n",
      "8580\n",
      "8600\n",
      "8620\n",
      "8640\n",
      "8660\n",
      "8680\n",
      "8700\n",
      "8720\n",
      "8740\n",
      "8760\n",
      "8780\n",
      "8800\n",
      "8820\n",
      "8840\n",
      "8860\n",
      "8880\n",
      "8900\n",
      "8920\n",
      "8940\n",
      "8960\n",
      "8980\n",
      "9000\n",
      "9020\n",
      "9040\n",
      "9060\n",
      "9080\n",
      "9100\n",
      "9120\n",
      "9140\n",
      "9160\n",
      "9180\n",
      "9200\n",
      "9220\n",
      "9240\n",
      "9260\n",
      "9280\n",
      "9300\n",
      "9320\n",
      "9340\n",
      "9360\n",
      "9380\n"
     ]
    }
   ],
   "source": [
    "similar = []\n",
    "for idx in df[df['category_name'].isnull()].index:\n",
    "    similar.append(find_similar(matrix_infer, idx, top_n=1))"
   ]
  },
  {
   "cell_type": "code",
   "execution_count": 154,
   "metadata": {
    "collapsed": true
   },
   "outputs": [],
   "source": [
    "df.loc[df['category_name'].isnull(), 'category_name'] = df.iloc[similar]['category_name'].tolist()"
   ]
  },
  {
   "cell_type": "code",
   "execution_count": 155,
   "metadata": {},
   "outputs": [
    {
     "data": {
      "text/plain": [
       "279"
      ]
     },
     "execution_count": 155,
     "metadata": {},
     "output_type": "execute_result"
    }
   ],
   "source": [
    "len(df[df['category_name'].isnull()])"
   ]
  },
  {
   "cell_type": "code",
   "execution_count": 156,
   "metadata": {
    "collapsed": true
   },
   "outputs": [],
   "source": [
    "similar2 = []\n",
    "for idx in df[df['category_name'].isnull()].index:\n",
    "    similar2.append(find_similar(matrix_infer, idx, top_n=2)[1])"
   ]
  },
  {
   "cell_type": "code",
   "execution_count": 157,
   "metadata": {},
   "outputs": [
    {
     "data": {
      "text/plain": [
       "30"
      ]
     },
     "execution_count": 157,
     "metadata": {},
     "output_type": "execute_result"
    }
   ],
   "source": [
    "df.loc[df['category_name'].isnull(), 'category_name'] = df.iloc[similar2]['category_name'].tolist()\n",
    "len(df[df['category_name'].isnull()])"
   ]
  },
  {
   "cell_type": "code",
   "execution_count": 158,
   "metadata": {
    "collapsed": true
   },
   "outputs": [],
   "source": [
    "similar3 = []\n",
    "for idx in df[df['category_name'].isnull()].index:\n",
    "    similar3.append(find_similar(matrix_infer, idx, top_n=3)[2])"
   ]
  },
  {
   "cell_type": "code",
   "execution_count": 159,
   "metadata": {},
   "outputs": [
    {
     "data": {
      "text/plain": [
       "1"
      ]
     },
     "execution_count": 159,
     "metadata": {},
     "output_type": "execute_result"
    }
   ],
   "source": [
    "df.loc[df['category_name'].isnull(), 'category_name'] = df.iloc[similar3]['category_name'].tolist()\n",
    "len(df[df['category_name'].isnull()])"
   ]
  },
  {
   "cell_type": "code",
   "execution_count": 160,
   "metadata": {
    "collapsed": true
   },
   "outputs": [],
   "source": [
    "similar4 = []\n",
    "for idx in df[df['category_name'].isnull()].index:\n",
    "    similar4.append(find_similar(matrix_infer, idx, top_n=4)[3])"
   ]
  },
  {
   "cell_type": "code",
   "execution_count": 161,
   "metadata": {},
   "outputs": [
    {
     "data": {
      "text/plain": [
       "0"
      ]
     },
     "execution_count": 161,
     "metadata": {},
     "output_type": "execute_result"
    }
   ],
   "source": [
    "df.loc[df['category_name'].isnull(), 'category_name'] = df.iloc[similar4]['category_name'].tolist()\n",
    "len(df[df['category_name'].isnull()])"
   ]
  },
  {
   "cell_type": "code",
   "execution_count": 163,
   "metadata": {
    "collapsed": true
   },
   "outputs": [],
   "source": [
    "df.to_csv(path+'category_imputted.csv', index=False)"
   ]
  },
  {
   "cell_type": "code",
   "execution_count": 257,
   "metadata": {},
   "outputs": [
    {
     "data": {
      "text/plain": [
       "1310"
      ]
     },
     "execution_count": 257,
     "metadata": {},
     "output_type": "execute_result"
    }
   ],
   "source": [
    "len(df['category_name'].unique())"
   ]
  },
  {
   "cell_type": "code",
   "execution_count": 189,
   "metadata": {},
   "outputs": [
    {
     "data": {
      "text/plain": [
       "array(['electronics/computers & tablets/ipad/tablet/ebook readers',\n",
       "       'sports & outdoors/exercise/dance/ballet',\n",
       "       'electronics/computers & tablets/ipad/tablet/ebook access',\n",
       "       'sports & outdoors/outdoors/indoor/outdoor games',\n",
       "       'men/coats & jackets/varsity/baseball',\n",
       "       'men/coats & jackets/flight/bomber',\n",
       "       'handmade/housewares/entertaining/serving'], dtype=object)"
      ]
     },
     "execution_count": 189,
     "metadata": {},
     "output_type": "execute_result"
    }
   ],
   "source": [
    "df[df['category_name'].str.split('/').str.len()>3]['category_name'].unique()"
   ]
  },
  {
   "cell_type": "code",
   "execution_count": 260,
   "metadata": {},
   "outputs": [
    {
     "data": {
      "image/png": "[encoded data removed]",
      "text/plain": [
       "<matplotlib.figure.Figure at 0x1f70aac2cf8>"
      ]
     },
     "metadata": {},
     "output_type": "display_data"
    }
   ],
   "source": [
    "train = df[df['train_id'].notnull()]\n",
    "group = train.groupby (train['category_name'])\n",
    "ranking = pd.DataFrame(group.price.std())\n",
    "ranking.reset_index(level = 0, inplace=True)\n",
    "ranking = ranking.sort_values(by='price', ascending = False)[:20]\n",
    "plt.figure(figsize=(10,6))\n",
    "sns.barplot(x = 'price', y = 'category_name', data = ranking, orient = 'h')\n",
    "plt.title('Top 20 most expensive and least expensive cat', fontsize = 15)\n",
    "plt.ylabel('category_name', fontsize = 15)\n",
    "plt.xlabel('std price', fontsize = 15)\n",
    "plt.show()"
   ]
  },
  {
   "cell_type": "code",
   "execution_count": 239,
   "metadata": {},
   "outputs": [
    {
     "data": {
      "text/html": [
       "<div>\n",
       "<style>\n",
       "    .dataframe thead tr:only-child th {\n",
       "        text-align: right;\n",
       "    }\n",
       "\n",
       "    .dataframe thead th {\n",
       "        text-align: left;\n",
       "    }\n",
       "\n",
       "    .dataframe tbody tr th {\n",
       "        vertical-align: top;\n",
       "    }\n",
       "</style>\n",
       "<table border=\"1\" class=\"dataframe\">\n",
       "  <thead>\n",
       "    <tr style=\"text-align: right;\">\n",
       "      <th></th>\n",
       "      <th>brand_name</th>\n",
       "      <th>category_name</th>\n",
       "      <th>item_condition_id</th>\n",
       "      <th>item_description</th>\n",
       "      <th>name</th>\n",
       "      <th>price</th>\n",
       "      <th>shipping</th>\n",
       "      <th>test_id</th>\n",
       "      <th>train_id</th>\n",
       "      <th>category_name2</th>\n",
       "      <th>cat1</th>\n",
       "      <th>cat2</th>\n",
       "      <th>cat3</th>\n",
       "    </tr>\n",
       "  </thead>\n",
       "  <tbody>\n",
       "    <tr>\n",
       "      <th>0</th>\n",
       "      <td>mlb</td>\n",
       "      <td>men/tops/t-shirts</td>\n",
       "      <td>3</td>\n",
       "      <td>no description yet</td>\n",
       "      <td>mlb cincinnati reds t shirt size xl</td>\n",
       "      <td>10.0</td>\n",
       "      <td>1</td>\n",
       "      <td>NaN</td>\n",
       "      <td>0.0</td>\n",
       "      <td>[men, tops, t-shirts]</td>\n",
       "      <td>men</td>\n",
       "      <td>tops</td>\n",
       "      <td>t-shirts</td>\n",
       "    </tr>\n",
       "    <tr>\n",
       "      <th>1</th>\n",
       "      <td>razer</td>\n",
       "      <td>electronics/computers &amp; tablets/components &amp; p...</td>\n",
       "      <td>3</td>\n",
       "      <td>this keyboard is in great condition and works ...</td>\n",
       "      <td>razer blackwidow chroma keyboard</td>\n",
       "      <td>52.0</td>\n",
       "      <td>0</td>\n",
       "      <td>NaN</td>\n",
       "      <td>1.0</td>\n",
       "      <td>[electronics, computers &amp; tablets, components ...</td>\n",
       "      <td>electronics</td>\n",
       "      <td>computers &amp; tablets</td>\n",
       "      <td>components &amp; parts</td>\n",
       "    </tr>\n",
       "    <tr>\n",
       "      <th>2</th>\n",
       "      <td>target</td>\n",
       "      <td>women/tops &amp; blouses/blouse</td>\n",
       "      <td>1</td>\n",
       "      <td>adorable top with a hint of lace and a key hol...</td>\n",
       "      <td>ava viv blouse</td>\n",
       "      <td>10.0</td>\n",
       "      <td>1</td>\n",
       "      <td>NaN</td>\n",
       "      <td>2.0</td>\n",
       "      <td>[women, tops &amp; blouses, blouse]</td>\n",
       "      <td>women</td>\n",
       "      <td>tops &amp; blouses</td>\n",
       "      <td>blouse</td>\n",
       "    </tr>\n",
       "    <tr>\n",
       "      <th>3</th>\n",
       "      <td>nobrand</td>\n",
       "      <td>home/home d?cor/home d?cor accents</td>\n",
       "      <td>1</td>\n",
       "      <td>new with tags leather horses retail for rm eac...</td>\n",
       "      <td>leather horse statues</td>\n",
       "      <td>35.0</td>\n",
       "      <td>1</td>\n",
       "      <td>NaN</td>\n",
       "      <td>3.0</td>\n",
       "      <td>[home, home d?cor, home d?cor accents]</td>\n",
       "      <td>home</td>\n",
       "      <td>home d?cor</td>\n",
       "      <td>home d?cor accents</td>\n",
       "    </tr>\n",
       "    <tr>\n",
       "      <th>4</th>\n",
       "      <td>nobrand</td>\n",
       "      <td>women/jewelry/necklaces</td>\n",
       "      <td>1</td>\n",
       "      <td>complete with certificate of authenticity</td>\n",
       "      <td>24k gold plated rose</td>\n",
       "      <td>44.0</td>\n",
       "      <td>0</td>\n",
       "      <td>NaN</td>\n",
       "      <td>4.0</td>\n",
       "      <td>[women, jewelry, necklaces]</td>\n",
       "      <td>women</td>\n",
       "      <td>jewelry</td>\n",
       "      <td>necklaces</td>\n",
       "    </tr>\n",
       "  </tbody>\n",
       "</table>\n",
       "</div>"
      ],
      "text/plain": [
       "  brand_name                                      category_name  \\\n",
       "0        mlb                                  men/tops/t-shirts   \n",
       "1      razer  electronics/computers & tablets/components & p...   \n",
       "2     target                        women/tops & blouses/blouse   \n",
       "3    nobrand                 home/home d?cor/home d?cor accents   \n",
       "4    nobrand                            women/jewelry/necklaces   \n",
       "\n",
       "   item_condition_id                                   item_description  \\\n",
       "0                  3                                 no description yet   \n",
       "1                  3  this keyboard is in great condition and works ...   \n",
       "2                  1  adorable top with a hint of lace and a key hol...   \n",
       "3                  1  new with tags leather horses retail for rm eac...   \n",
       "4                  1          complete with certificate of authenticity   \n",
       "\n",
       "                                  name  price  shipping  test_id  train_id  \\\n",
       "0  mlb cincinnati reds t shirt size xl   10.0         1      NaN       0.0   \n",
       "1     razer blackwidow chroma keyboard   52.0         0      NaN       1.0   \n",
       "2                       ava viv blouse   10.0         1      NaN       2.0   \n",
       "3                leather horse statues   35.0         1      NaN       3.0   \n",
       "4                 24k gold plated rose   44.0         0      NaN       4.0   \n",
       "\n",
       "                                      category_name2         cat1  \\\n",
       "0                              [men, tops, t-shirts]          men   \n",
       "1  [electronics, computers & tablets, components ...  electronics   \n",
       "2                    [women, tops & blouses, blouse]        women   \n",
       "3             [home, home d?cor, home d?cor accents]         home   \n",
       "4                        [women, jewelry, necklaces]        women   \n",
       "\n",
       "                  cat2                cat3  \n",
       "0                 tops            t-shirts  \n",
       "1  computers & tablets  components & parts  \n",
       "2       tops & blouses              blouse  \n",
       "3           home d?cor  home d?cor accents  \n",
       "4              jewelry           necklaces  "
      ]
     },
     "execution_count": 239,
     "metadata": {},
     "output_type": "execute_result"
    }
   ],
   "source": [
    "df['cat1'], df['cat2'], df['cat3'] = zip(*df['category_name'].apply(lambda x: x.split('/')))\n",
    "df.head()"
   ]
  },
  {
   "cell_type": "code",
   "execution_count": 259,
   "metadata": {},
   "outputs": [
    {
     "name": "stdout",
     "output_type": "stream",
     "text": [
      "length of sub-categories :  10 113 881\n"
     ]
    }
   ],
   "source": [
    "print('length of sub-categories : ', len(df.cat1.unique()), len(df.cat2.unique()), len(df.cat3.unique()))"
   ]
  },
  {
   "cell_type": "code",
   "execution_count": 252,
   "metadata": {},
   "outputs": [
    {
     "data": {
      "image/png": "[encoded data removed]",
      "text/plain": [
       "<matplotlib.figure.Figure at 0x1f70b95cfd0>"
      ]
     },
     "metadata": {},
     "output_type": "display_data"
    },
    {
     "data": {
      "image/png": "[encoded data removed]",
      "text/plain": [
       "<matplotlib.figure.Figure at 0x1f4b1fb34a8>"
      ]
     },
     "metadata": {},
     "output_type": "display_data"
    },
    {
     "data": {
      "image/png": "[encoded data removed]",
      "text/plain": [
       "<matplotlib.figure.Figure at 0x1f70bb8d860>"
      ]
     },
     "metadata": {},
     "output_type": "display_data"
    }
   ],
   "source": [
    "for cat in ['cat1', 'cat2', 'cat3']:\n",
    "    group = train.groupby (train[cat])\n",
    "    ranking = pd.DataFrame(group.price.std())\n",
    "    ranking.reset_index(level = 0, inplace=True)\n",
    "    ranking = ranking.sort_values(by='price', ascending = False)[:10]\n",
    "    plt.figure(figsize=(10,6))\n",
    "    sns.barplot(x = 'price', y = cat, data = ranking, orient = 'h')\n",
    "    plt.title('Top 10 most expensive and least expensive cat', fontsize = 15)\n",
    "    plt.ylabel(cat, fontsize = 10)\n",
    "    plt.xlabel('std price', fontsize = 10)\n",
    "    plt.show()"
   ]
  },
  {
   "cell_type": "code",
   "execution_count": null,
   "metadata": {
    "collapsed": true
   },
   "outputs": [],
   "source": [
    "df['']"
   ]
  },
  {
   "cell_type": "markdown",
   "metadata": {},
   "source": [
    "###  \n",
    "#### brand_name"
   ]
  },
  {
   "cell_type": "code",
   "execution_count": 162,
   "metadata": {},
   "outputs": [
    {
     "data": {
      "text/html": [
       "<div>\n",
       "<style>\n",
       "    .dataframe thead tr:only-child th {\n",
       "        text-align: right;\n",
       "    }\n",
       "\n",
       "    .dataframe thead th {\n",
       "        text-align: left;\n",
       "    }\n",
       "\n",
       "    .dataframe tbody tr th {\n",
       "        vertical-align: top;\n",
       "    }\n",
       "</style>\n",
       "<table border=\"1\" class=\"dataframe\">\n",
       "  <thead>\n",
       "    <tr style=\"text-align: right;\">\n",
       "      <th></th>\n",
       "      <th>brand_name</th>\n",
       "      <th>category_name</th>\n",
       "      <th>item_condition_id</th>\n",
       "      <th>item_description</th>\n",
       "      <th>name</th>\n",
       "      <th>price</th>\n",
       "      <th>shipping</th>\n",
       "      <th>test_id</th>\n",
       "      <th>train_id</th>\n",
       "    </tr>\n",
       "  </thead>\n",
       "  <tbody>\n",
       "    <tr>\n",
       "      <th>0</th>\n",
       "      <td>NaN</td>\n",
       "      <td>men/tops/t-shirts</td>\n",
       "      <td>3</td>\n",
       "      <td>no description yet</td>\n",
       "      <td>mlb cincinnati reds t shirt size xl</td>\n",
       "      <td>10.0</td>\n",
       "      <td>1</td>\n",
       "      <td>NaN</td>\n",
       "      <td>0.0</td>\n",
       "    </tr>\n",
       "    <tr>\n",
       "      <th>3</th>\n",
       "      <td>NaN</td>\n",
       "      <td>home/home décor/home décor accents</td>\n",
       "      <td>1</td>\n",
       "      <td>new with tags leather horses retail for rm eac...</td>\n",
       "      <td>leather horse statues</td>\n",
       "      <td>35.0</td>\n",
       "      <td>1</td>\n",
       "      <td>NaN</td>\n",
       "      <td>3.0</td>\n",
       "    </tr>\n",
       "    <tr>\n",
       "      <th>4</th>\n",
       "      <td>NaN</td>\n",
       "      <td>women/jewelry/necklaces</td>\n",
       "      <td>1</td>\n",
       "      <td>complete with certificate of authenticity</td>\n",
       "      <td>24k gold plated rose</td>\n",
       "      <td>44.0</td>\n",
       "      <td>0</td>\n",
       "      <td>NaN</td>\n",
       "      <td>4.0</td>\n",
       "    </tr>\n",
       "    <tr>\n",
       "      <th>5</th>\n",
       "      <td>NaN</td>\n",
       "      <td>women/other/other</td>\n",
       "      <td>3</td>\n",
       "      <td>banana republic bottoms candies skirt with mat...</td>\n",
       "      <td>bundled items requested for ruie</td>\n",
       "      <td>59.0</td>\n",
       "      <td>0</td>\n",
       "      <td>NaN</td>\n",
       "      <td>5.0</td>\n",
       "    </tr>\n",
       "    <tr>\n",
       "      <th>9</th>\n",
       "      <td>NaN</td>\n",
       "      <td>vintage &amp; collectibles/collectibles/doll</td>\n",
       "      <td>3</td>\n",
       "      <td>i realized his pants are on backwards after th...</td>\n",
       "      <td>porcelain clown doll checker pants vtg</td>\n",
       "      <td>8.0</td>\n",
       "      <td>0</td>\n",
       "      <td>NaN</td>\n",
       "      <td>9.0</td>\n",
       "    </tr>\n",
       "  </tbody>\n",
       "</table>\n",
       "</div>"
      ],
      "text/plain": [
       "  brand_name                             category_name  item_condition_id  \\\n",
       "0        NaN                         men/tops/t-shirts                  3   \n",
       "3        NaN        home/home décor/home décor accents                  1   \n",
       "4        NaN                   women/jewelry/necklaces                  1   \n",
       "5        NaN                         women/other/other                  3   \n",
       "9        NaN  vintage & collectibles/collectibles/doll                  3   \n",
       "\n",
       "                                    item_description  \\\n",
       "0                                 no description yet   \n",
       "3  new with tags leather horses retail for rm eac...   \n",
       "4          complete with certificate of authenticity   \n",
       "5  banana republic bottoms candies skirt with mat...   \n",
       "9  i realized his pants are on backwards after th...   \n",
       "\n",
       "                                     name  price  shipping  test_id  train_id  \n",
       "0     mlb cincinnati reds t shirt size xl   10.0         1      NaN       0.0  \n",
       "3                   leather horse statues   35.0         1      NaN       3.0  \n",
       "4                    24k gold plated rose   44.0         0      NaN       4.0  \n",
       "5        bundled items requested for ruie   59.0         0      NaN       5.0  \n",
       "9  porcelain clown doll checker pants vtg    8.0         0      NaN       9.0  "
      ]
     },
     "execution_count": 162,
     "metadata": {},
     "output_type": "execute_result"
    }
   ],
   "source": [
    "df[df['brand_name'].isnull()].head()"
   ]
  },
  {
   "cell_type": "code",
   "execution_count": 79,
   "metadata": {},
   "outputs": [
    {
     "name": "stdout",
     "output_type": "stream",
     "text": [
      "고유 브랜드 개수 : 5286\n"
     ]
    }
   ],
   "source": [
    "print('고유 브랜드 개수 :', len(df.brand_name.unique()))"
   ]
  },
  {
   "cell_type": "markdown",
   "metadata": {},
   "source": [
    "\n",
    "1. name, item_description으로부터 brand_name impuation"
   ]
  },
  {
   "cell_type": "code",
   "execution_count": 50,
   "metadata": {},
   "outputs": [
    {
     "data": {
      "text/plain": [
       "['nike',\n",
       " 'pink',\n",
       " 'victoria s secret',\n",
       " 'lularoe',\n",
       " 'apple',\n",
       " 'forever 21',\n",
       " 'nintendo',\n",
       " 'lululemon',\n",
       " 'michael kors',\n",
       " 'american eagle']"
      ]
     },
     "execution_count": 50,
     "metadata": {},
     "output_type": "execute_result"
    }
   ],
   "source": [
    "brand_name = pd.DataFrame(df['brand_name'].value_counts())\n",
    "brand_name.reset_index(inplace=True)\n",
    "brand_name.columns = ['brand', 'count']\n",
    "brand_name['brand'] = brand_name['brand'].str.lower()\n",
    "brand_name = brand_name[~brand_name['brand'].str.contains('\\|')]\n",
    "\n",
    "## 브랜드 frequency가 최소 100개 이상인 브랜드만 impuation\n",
    "brands = brand_name[(brand_name['count']>100)]['brand'].tolist()\n",
    "brands[:10]"
   ]
  },
  {
   "cell_type": "code",
   "execution_count": 18,
   "metadata": {},
   "outputs": [
    {
     "name": "stdout",
     "output_type": "stream",
     "text": [
      "100\n",
      "200\n",
      "300\n",
      "400\n",
      "500\n",
      "600\n"
     ]
    }
   ],
   "source": [
    "## 'brand + 공백' or '공백 + brand + 공백'으로 search -> brand만 했을 경우 오류 많음\n",
    "## ex) mac -> macadamia 잡아냄\n",
    "\n",
    "brand_null = df.loc[df['brand_name'].isnull(),]\n",
    "i=0\n",
    "for brand in brands:\n",
    "    brand_null.loc[(brand_null['name'].str.startswith(brand+' '))|\\\n",
    "                   (brand_null['name'].str.contains(' '+brand+' ')), 'brand1'] = brand\n",
    "    i+=1\n",
    "    if i%100 == 0:\n",
    "        print(i)\n",
    "\n",
    "brand_null = brand_null.loc[brand_null['item_description'].notnull(),]\n",
    "brand_null['item_description'] = brand_null['item_description'].str.lower()\n",
    "i=0\n",
    "for brand in brands:\n",
    "    brand_null.loc[(brand_null['item_description'].str.startswith(brand+' '))|\\\n",
    "                   (brand_null['item_description'].str.contains(' '+brand+' ')), 'brand2'] = brand\n",
    "    i+=1\n",
    "    if i%100 == 0:\n",
    "        print(i)"
   ]
  },
  {
   "cell_type": "code",
   "execution_count": 209,
   "metadata": {
    "collapsed": true
   },
   "outputs": [],
   "source": [
    "brand_null = pd.read_csv(path+'null.csv', encoding='cp949')"
   ]
  },
  {
   "cell_type": "code",
   "execution_count": 210,
   "metadata": {
    "collapsed": true
   },
   "outputs": [],
   "source": [
    "# 최소 3글자 이상인 brand_name 사용 -> 일상적으로 사용되는 단어인 so, op, m 같은 브랜드가 잡힘\n",
    "brand_null.loc[brand_null['brand1'].str.len()<3, 'brand1'] = np.nan\n",
    "brand_null.loc[brand_null['brand2'].str.len()<3, 'brand2'] = np.nan"
   ]
  },
  {
   "cell_type": "code",
   "execution_count": 211,
   "metadata": {
    "collapsed": true
   },
   "outputs": [],
   "source": [
    "# 일상 단어 제외 -> pink, all, always, art, bic, vintage...\n",
    "drop_list = ['pink', 'all', 'always', 'art', 'bic', 'vintage', 'born', 'e.l.f.', 'supreme', 'htc']\n",
    "brand_null.loc[brand_null['brand1'].isin(drop_list), 'brand1'] = np.nan\n",
    "brand_null.loc[brand_null['brand2'].isin(drop_list), 'brand2'] = np.nan"
   ]
  },
  {
   "cell_type": "code",
   "execution_count": 212,
   "metadata": {
    "collapsed": true
   },
   "outputs": [],
   "source": [
    "# imputation\n",
    "brand_null.loc[brand_null['brand1'].notnull() \\\n",
    "               & brand_null['brand2'].isnull(), 'brand_name']\\\n",
    "               = brand_null.loc[brand_null['brand1'].notnull() & brand_null['brand2'].isnull(), 'brand1']\n",
    "\n",
    "brand_null.loc[brand_null['brand1'].isnull() \\\n",
    "               & brand_null['brand2'].notnull(), 'brand_name']\\\n",
    "               = brand_null.loc[brand_null['brand1'].isnull() & brand_null['brand2'].notnull(), 'brand2']\n",
    "\n",
    "brand_null.loc[brand_null['brand1'].notnull() \\\n",
    "               & brand_null['brand2'].notnull(), 'brand_name']\\\n",
    "               = brand_null.loc[brand_null['brand1'].isnull() & brand_null['brand2'].notnull(), 'brand2']\n",
    "               \n",
    "brand_null.loc[(brand_null['brand1'].notnull() & brand_null['brand2'].notnull())\\\n",
    "               & (brand_null['brand1'] == brand_null['brand2']), 'brand_name']\\\n",
    "               = brand_null.loc[(brand_null['brand1'].notnull() & brand_null['brand2'].notnull())\\\n",
    "               & (brand_null['brand1'] == brand_null['brand2']), 'brand1']\n",
    "               \n",
    "\n",
    "brand_null.loc[(brand_null['brand1'].notnull() & brand_null['brand2'].notnull())\\\n",
    "               & (brand_null['brand1'] != brand_null['brand2']), 'brand_name']\\\n",
    "               = brand_null.loc[(brand_null['brand1'].notnull() & brand_null['brand2'].notnull())\\\n",
    "               & (brand_null['brand1'] != brand_null['brand2']), 'brand1']"
   ]
  },
  {
   "cell_type": "code",
   "execution_count": 213,
   "metadata": {
    "collapsed": true
   },
   "outputs": [],
   "source": [
    "df.loc[(df['brand_name']=='mac')&(df['category_name'].str.contains('elec')), 'brand_name'] = 'apple'"
   ]
  },
  {
   "cell_type": "code",
   "execution_count": 214,
   "metadata": {
    "collapsed": true
   },
   "outputs": [],
   "source": [
    "# 휴대폰 케이스 없애기\n",
    "brand_null.loc[(brand_null['name'].str.lower().str.contains('iphone')\\\n",
    "        | brand_null['name'].str.lower().str.contains('galaxy')\\\n",
    "        | brand_null['name'].str.lower().str.contains('samsung')\\\n",
    "        | brand_null['name'].str.lower().str.contains('apple'))\\\n",
    "       & (brand_null['name'].str.lower().str.contains('case')), 'brand_name'] = np.nan"
   ]
  },
  {
   "cell_type": "code",
   "execution_count": 215,
   "metadata": {},
   "outputs": [
    {
     "name": "stdout",
     "output_type": "stream",
     "text": [
      "brand name이 imputation된 상품 개수 :  211081\n"
     ]
    },
    {
     "data": {
      "text/html": [
       "<div>\n",
       "<style>\n",
       "    .dataframe thead tr:only-child th {\n",
       "        text-align: right;\n",
       "    }\n",
       "\n",
       "    .dataframe thead th {\n",
       "        text-align: left;\n",
       "    }\n",
       "\n",
       "    .dataframe tbody tr th {\n",
       "        vertical-align: top;\n",
       "    }\n",
       "</style>\n",
       "<table border=\"1\" class=\"dataframe\">\n",
       "  <thead>\n",
       "    <tr style=\"text-align: right;\">\n",
       "      <th></th>\n",
       "      <th>brand_name</th>\n",
       "      <th>category_name</th>\n",
       "      <th>item_condition_id</th>\n",
       "      <th>item_description</th>\n",
       "      <th>name</th>\n",
       "      <th>price</th>\n",
       "      <th>shipping</th>\n",
       "      <th>test_id</th>\n",
       "      <th>train_id</th>\n",
       "    </tr>\n",
       "  </thead>\n",
       "  <tbody>\n",
       "    <tr>\n",
       "      <th>0</th>\n",
       "      <td>mlb</td>\n",
       "      <td>men/tops/t-shirts</td>\n",
       "      <td>3</td>\n",
       "      <td>no description yet</td>\n",
       "      <td>mlb cincinnati reds t shirt size xl</td>\n",
       "      <td>10.0</td>\n",
       "      <td>1</td>\n",
       "      <td>NaN</td>\n",
       "      <td>0.0</td>\n",
       "    </tr>\n",
       "    <tr>\n",
       "      <th>1</th>\n",
       "      <td>razer</td>\n",
       "      <td>electronics/computers &amp; tablets/components &amp; p...</td>\n",
       "      <td>3</td>\n",
       "      <td>this keyboard is in great condition and works ...</td>\n",
       "      <td>razer blackwidow chroma keyboard</td>\n",
       "      <td>52.0</td>\n",
       "      <td>0</td>\n",
       "      <td>NaN</td>\n",
       "      <td>1.0</td>\n",
       "    </tr>\n",
       "    <tr>\n",
       "      <th>2</th>\n",
       "      <td>target</td>\n",
       "      <td>women/tops &amp; blouses/blouse</td>\n",
       "      <td>1</td>\n",
       "      <td>adorable top with a hint of lace and a key hol...</td>\n",
       "      <td>ava viv blouse</td>\n",
       "      <td>10.0</td>\n",
       "      <td>1</td>\n",
       "      <td>NaN</td>\n",
       "      <td>2.0</td>\n",
       "    </tr>\n",
       "    <tr>\n",
       "      <th>3</th>\n",
       "      <td>NaN</td>\n",
       "      <td>home/home d?cor/home d?cor accents</td>\n",
       "      <td>1</td>\n",
       "      <td>new with tags leather horses retail for rm eac...</td>\n",
       "      <td>leather horse statues</td>\n",
       "      <td>35.0</td>\n",
       "      <td>1</td>\n",
       "      <td>NaN</td>\n",
       "      <td>3.0</td>\n",
       "    </tr>\n",
       "    <tr>\n",
       "      <th>4</th>\n",
       "      <td>NaN</td>\n",
       "      <td>women/jewelry/necklaces</td>\n",
       "      <td>1</td>\n",
       "      <td>complete with certificate of authenticity</td>\n",
       "      <td>24k gold plated rose</td>\n",
       "      <td>44.0</td>\n",
       "      <td>0</td>\n",
       "      <td>NaN</td>\n",
       "      <td>4.0</td>\n",
       "    </tr>\n",
       "  </tbody>\n",
       "</table>\n",
       "</div>"
      ],
      "text/plain": [
       "  brand_name                                      category_name  \\\n",
       "0        mlb                                  men/tops/t-shirts   \n",
       "1      razer  electronics/computers & tablets/components & p...   \n",
       "2     target                        women/tops & blouses/blouse   \n",
       "3        NaN                 home/home d?cor/home d?cor accents   \n",
       "4        NaN                            women/jewelry/necklaces   \n",
       "\n",
       "   item_condition_id                                   item_description  \\\n",
       "0                  3                                 no description yet   \n",
       "1                  3  this keyboard is in great condition and works ...   \n",
       "2                  1  adorable top with a hint of lace and a key hol...   \n",
       "3                  1  new with tags leather horses retail for rm eac...   \n",
       "4                  1          complete with certificate of authenticity   \n",
       "\n",
       "                                  name  price  shipping  test_id  train_id  \n",
       "0  mlb cincinnati reds t shirt size xl   10.0         1      NaN       0.0  \n",
       "1     razer blackwidow chroma keyboard   52.0         0      NaN       1.0  \n",
       "2                       ava viv blouse   10.0         1      NaN       2.0  \n",
       "3                leather horse statues   35.0         1      NaN       3.0  \n",
       "4                 24k gold plated rose   44.0         0      NaN       4.0  "
      ]
     },
     "execution_count": 215,
     "metadata": {},
     "output_type": "execute_result"
    }
   ],
   "source": [
    "df.loc[df['brand_name'].isnull(), 'brand_name'] = brand_null['brand_name'].tolist()\n",
    "print('brand name이 imputation된 상품 개수 : ', len(brand_null[brand_null['brand_name'].notnull()]))\n",
    "df.head()"
   ]
  },
  {
   "cell_type": "code",
   "execution_count": 216,
   "metadata": {},
   "outputs": [
    {
     "name": "stdout",
     "output_type": "stream",
     "text": [
      "brand_name이 nan인 상품 개수 :  717126\n"
     ]
    }
   ],
   "source": [
    "print('brand_name이 nan인 상품 개수 : ', len(df[df['brand_name'].astype(str)=='nan']))"
   ]
  },
  {
   "cell_type": "code",
   "execution_count": 217,
   "metadata": {
    "collapsed": true
   },
   "outputs": [],
   "source": [
    "df['brand_name'] = df['brand_name'].fillna('nobrand')"
   ]
  },
  {
   "cell_type": "code",
   "execution_count": 218,
   "metadata": {
    "collapsed": true
   },
   "outputs": [],
   "source": [
    "# 같은 브랜드인데 다른 이름 처리 -> jordan : jordans\n",
    "df.loc[df['brand_name']=='jordans', 'brand_name'] = 'jordan'\n",
    "df.loc[df['brand_name']=='jordans', 'brand_name'] = 'jordan'\n",
    "\n",
    "df.loc[df['brand_name']=='kate spade new york', 'brand_name'] = 'kate spade'\n",
    "df.loc[df['brand_name']=='kate spade new york', 'brand_name'] = 'kate spade'"
   ]
  },
  {
   "cell_type": "code",
   "execution_count": 174,
   "metadata": {},
   "outputs": [
    {
     "data": {
      "image/png": "[encoded data removed]",
      "text/plain": [
       "<matplotlib.figure.Figure at 0x1f59198a630>"
      ]
     },
     "metadata": {},
     "output_type": "display_data"
    }
   ],
   "source": [
    "import matplotlib\n",
    "f,ax = plt.subplots(1,1,figsize=(16,10))\n",
    "hist = df.groupby(['brand_name'],as_index=False).count().sort_values(by='train_id',ascending=False)[1:25]\n",
    "sns.barplot(y=hist['brand_name'],x=hist['train_id'],orient='h')\n",
    "matplotlib.rcParams.update({'font.size': 15})\n",
    "plt.xlabel('frequency', fontsize=20)\n",
    "plt.title('Top 25 most frequent brands', fontsize = 22)\n",
    "plt.show()"
   ]
  },
  {
   "cell_type": "code",
   "execution_count": 175,
   "metadata": {},
   "outputs": [
    {
     "data": {
      "text/plain": [
       "Text(0.5,0,'Mean price')"
      ]
     },
     "execution_count": 175,
     "metadata": {},
     "output_type": "execute_result"
    },
    {
     "data": {
      "image/png": "[encoded data removed]",
      "text/plain": [
       "<matplotlib.figure.Figure at 0x1f5adac39e8>"
      ]
     },
     "metadata": {},
     "output_type": "display_data"
    }
   ],
   "source": [
    "group = train.groupby (train.brand_name)\n",
    "ranking = pd.DataFrame(group.price.mean())\n",
    "ranking.reset_index(level = 0, inplace=True)\n",
    "ranking1 = ranking.sort_values(by='price', ascending = False).head(15)\n",
    "ranking2 = ranking.sort_values(by='price', ascending = False).tail(15)\n",
    "ranking = pd.concat([ranking1, ranking2])\n",
    "plt.figure(figsize=(16,10))\n",
    "sns.barplot(x = 'price', y = 'brand_name', data = ranking, orient = 'h')\n",
    "plt.title('Top 15 most expensive and least expensive brands', fontsize = 22)\n",
    "plt.ylabel('Brand name', fontsize = 20)\n",
    "plt.xlabel('Mean price', fontsize = 20)"
   ]
  },
  {
   "cell_type": "code",
   "execution_count": 180,
   "metadata": {},
   "outputs": [
    {
     "data": {
      "text/plain": [
       "2"
      ]
     },
     "execution_count": 180,
     "metadata": {},
     "output_type": "execute_result"
    },
    {
     "data": {
      "image/png": "[encoded data removed]",
      "text/plain": [
       "<matplotlib.figure.Figure at 0x1f5beaeecf8>"
      ]
     },
     "metadata": {},
     "output_type": "display_data"
    }
   ],
   "source": [
    "train[train['brand_name']=='demdaco']['price'].hist(bins=200)\n",
    "len(train[train['brand_name']=='demdaco'])"
   ]
  },
  {
   "cell_type": "markdown",
   "metadata": {},
   "source": [
    "비싼 브랜드의 경우 frequency가 작은 경우 많음\n",
    "###  "
   ]
  },
  {
   "cell_type": "code",
   "execution_count": 128,
   "metadata": {},
   "outputs": [
    {
     "data": {
      "text/plain": [
       "Text(0.5,0,'Mean price')"
      ]
     },
     "execution_count": 128,
     "metadata": {},
     "output_type": "execute_result"
    },
    {
     "data": {
      "image/png": "[encoded data removed]",
      "text/plain": [
       "<matplotlib.figure.Figure at 0x1f4f91bb470>"
      ]
     },
     "metadata": {},
     "output_type": "display_data"
    }
   ],
   "source": [
    "group = train.groupby (train.brand_name)\n",
    "ranking = pd.DataFrame(group.log_price.mean())\n",
    "ranking.reset_index(level = 0, inplace=True)\n",
    "ranking1 = ranking.sort_values(by='log_price', ascending = False).head(300)\n",
    "ranking2 = ranking.sort_values(by='log_price', ascending = False).tail(300)\n",
    "ranking = pd.concat([ranking1, ranking2])\n",
    "plt.figure(figsize=(16,10))\n",
    "sns.barplot(x = 'log_price', y = 'brand_name', data = ranking.append(ranking2), orient = 'h')\n",
    "plt.title('Top 300 most expensive and least expensive brands', fontsize = 22)\n",
    "plt.ylabel('Brand name', fontsize = 20)\n",
    "plt.xlabel('Mean price', fontsize = 20)"
   ]
  },
  {
   "cell_type": "markdown",
   "metadata": {},
   "source": [
    "-> Price는 brand의 영향을 많이 받음을 알 수 있음"
   ]
  },
  {
   "cell_type": "code",
   "execution_count": 219,
   "metadata": {},
   "outputs": [
    {
     "data": {
      "text/plain": [
       "count     5283.000000\n",
       "mean       276.124929\n",
       "std       2600.109654\n",
       "min          1.000000\n",
       "25%          2.000000\n",
       "50%          5.000000\n",
       "75%         26.000000\n",
       "max      91445.000000\n",
       "Name: brand_name, dtype: float64"
      ]
     },
     "execution_count": 219,
     "metadata": {},
     "output_type": "execute_result"
    }
   ],
   "source": [
    "df[df['brand_name']!='nobrand']['brand_name'].value_counts().describe()"
   ]
  },
  {
   "cell_type": "code",
   "execution_count": 223,
   "metadata": {},
   "outputs": [
    {
     "name": "stdout",
     "output_type": "stream",
     "text": [
      "3433\n"
     ]
    }
   ],
   "source": [
    "more_than = pd.DataFrame(df['brand_name'].value_counts())\n",
    "more_than.reset_index(inplace=True)\n",
    "more_than.columns=['brand_name', 'frequency']\n",
    "brand_list = more_than[more_than['frequency']>2].iloc[1:]['brand_name'].tolist()\n",
    "print(len(brand_list))"
   ]
  },
  {
   "cell_type": "code",
   "execution_count": 224,
   "metadata": {
    "collapsed": true
   },
   "outputs": [],
   "source": [
    "df.loc[~df['brand_name'].isin(brand_list), 'brand_name'] = 'nobrand'"
   ]
  },
  {
   "cell_type": "code",
   "execution_count": 266,
   "metadata": {},
   "outputs": [
    {
     "data": {
      "text/html": [
       "<div>\n",
       "<style>\n",
       "    .dataframe thead tr:only-child th {\n",
       "        text-align: right;\n",
       "    }\n",
       "\n",
       "    .dataframe thead th {\n",
       "        text-align: left;\n",
       "    }\n",
       "\n",
       "    .dataframe tbody tr th {\n",
       "        vertical-align: top;\n",
       "    }\n",
       "</style>\n",
       "<table border=\"1\" class=\"dataframe\">\n",
       "  <thead>\n",
       "    <tr style=\"text-align: right;\">\n",
       "      <th></th>\n",
       "      <th>brand_name</th>\n",
       "      <th>category_name</th>\n",
       "      <th>item_condition_id</th>\n",
       "      <th>item_description</th>\n",
       "      <th>name</th>\n",
       "      <th>price</th>\n",
       "      <th>shipping</th>\n",
       "      <th>test_id</th>\n",
       "      <th>train_id</th>\n",
       "      <th>category_name2</th>\n",
       "      <th>cat1</th>\n",
       "      <th>cat2</th>\n",
       "      <th>cat3</th>\n",
       "      <th>log_price</th>\n",
       "    </tr>\n",
       "  </thead>\n",
       "  <tbody>\n",
       "    <tr>\n",
       "      <th>0</th>\n",
       "      <td>mlb</td>\n",
       "      <td>men/tops/t-shirts</td>\n",
       "      <td>3</td>\n",
       "      <td>no description yet</td>\n",
       "      <td>mlb cincinnati reds t shirt size xl</td>\n",
       "      <td>10.0</td>\n",
       "      <td>1</td>\n",
       "      <td>NaN</td>\n",
       "      <td>0.0</td>\n",
       "      <td>[men, tops, t-shirts]</td>\n",
       "      <td>men</td>\n",
       "      <td>tops</td>\n",
       "      <td>t-shirts</td>\n",
       "      <td>2.397895</td>\n",
       "    </tr>\n",
       "    <tr>\n",
       "      <th>1</th>\n",
       "      <td>razer</td>\n",
       "      <td>electronics/computers &amp; tablets/components &amp; p...</td>\n",
       "      <td>3</td>\n",
       "      <td>this keyboard is in great condition and works ...</td>\n",
       "      <td>razer blackwidow chroma keyboard</td>\n",
       "      <td>52.0</td>\n",
       "      <td>0</td>\n",
       "      <td>NaN</td>\n",
       "      <td>1.0</td>\n",
       "      <td>[electronics, computers &amp; tablets, components ...</td>\n",
       "      <td>electronics</td>\n",
       "      <td>computers &amp; tablets</td>\n",
       "      <td>components &amp; parts</td>\n",
       "      <td>3.970292</td>\n",
       "    </tr>\n",
       "    <tr>\n",
       "      <th>2</th>\n",
       "      <td>target</td>\n",
       "      <td>women/tops &amp; blouses/blouse</td>\n",
       "      <td>1</td>\n",
       "      <td>adorable top with a hint of lace and a key hol...</td>\n",
       "      <td>ava viv blouse</td>\n",
       "      <td>10.0</td>\n",
       "      <td>1</td>\n",
       "      <td>NaN</td>\n",
       "      <td>2.0</td>\n",
       "      <td>[women, tops &amp; blouses, blouse]</td>\n",
       "      <td>women</td>\n",
       "      <td>tops &amp; blouses</td>\n",
       "      <td>blouse</td>\n",
       "      <td>2.397895</td>\n",
       "    </tr>\n",
       "    <tr>\n",
       "      <th>3</th>\n",
       "      <td>nobrand</td>\n",
       "      <td>home/home d?cor/home d?cor accents</td>\n",
       "      <td>1</td>\n",
       "      <td>new with tags leather horses retail for rm eac...</td>\n",
       "      <td>leather horse statues</td>\n",
       "      <td>35.0</td>\n",
       "      <td>1</td>\n",
       "      <td>NaN</td>\n",
       "      <td>3.0</td>\n",
       "      <td>[home, home d?cor, home d?cor accents]</td>\n",
       "      <td>home</td>\n",
       "      <td>home d?cor</td>\n",
       "      <td>home d?cor accents</td>\n",
       "      <td>3.583519</td>\n",
       "    </tr>\n",
       "    <tr>\n",
       "      <th>4</th>\n",
       "      <td>nobrand</td>\n",
       "      <td>women/jewelry/necklaces</td>\n",
       "      <td>1</td>\n",
       "      <td>complete with certificate of authenticity</td>\n",
       "      <td>24k gold plated rose</td>\n",
       "      <td>44.0</td>\n",
       "      <td>0</td>\n",
       "      <td>NaN</td>\n",
       "      <td>4.0</td>\n",
       "      <td>[women, jewelry, necklaces]</td>\n",
       "      <td>women</td>\n",
       "      <td>jewelry</td>\n",
       "      <td>necklaces</td>\n",
       "      <td>3.806662</td>\n",
       "    </tr>\n",
       "  </tbody>\n",
       "</table>\n",
       "</div>"
      ],
      "text/plain": [
       "  brand_name                                      category_name  \\\n",
       "0        mlb                                  men/tops/t-shirts   \n",
       "1      razer  electronics/computers & tablets/components & p...   \n",
       "2     target                        women/tops & blouses/blouse   \n",
       "3    nobrand                 home/home d?cor/home d?cor accents   \n",
       "4    nobrand                            women/jewelry/necklaces   \n",
       "\n",
       "  item_condition_id                                   item_description  \\\n",
       "0                 3                                 no description yet   \n",
       "1                 3  this keyboard is in great condition and works ...   \n",
       "2                 1  adorable top with a hint of lace and a key hol...   \n",
       "3                 1  new with tags leather horses retail for rm eac...   \n",
       "4                 1          complete with certificate of authenticity   \n",
       "\n",
       "                                  name  price  shipping  test_id  train_id  \\\n",
       "0  mlb cincinnati reds t shirt size xl   10.0         1      NaN       0.0   \n",
       "1     razer blackwidow chroma keyboard   52.0         0      NaN       1.0   \n",
       "2                       ava viv blouse   10.0         1      NaN       2.0   \n",
       "3                leather horse statues   35.0         1      NaN       3.0   \n",
       "4                 24k gold plated rose   44.0         0      NaN       4.0   \n",
       "\n",
       "                                      category_name2         cat1  \\\n",
       "0                              [men, tops, t-shirts]          men   \n",
       "1  [electronics, computers & tablets, components ...  electronics   \n",
       "2                    [women, tops & blouses, blouse]        women   \n",
       "3             [home, home d?cor, home d?cor accents]         home   \n",
       "4                        [women, jewelry, necklaces]        women   \n",
       "\n",
       "                  cat2                cat3  log_price  \n",
       "0                 tops            t-shirts   2.397895  \n",
       "1  computers & tablets  components & parts   3.970292  \n",
       "2       tops & blouses              blouse   2.397895  \n",
       "3           home d?cor  home d?cor accents   3.583519  \n",
       "4              jewelry           necklaces   3.806662  "
      ]
     },
     "execution_count": 266,
     "metadata": {},
     "output_type": "execute_result"
    }
   ],
   "source": [
    "df.head()"
   ]
  },
  {
   "cell_type": "code",
   "execution_count": 267,
   "metadata": {
    "collapsed": true
   },
   "outputs": [],
   "source": [
    "df_copy = df.copy()\n",
    "df.drop(['price', 'category_name', 'category_name2'], axis=1, inplace=True)"
   ]
  },
  {
   "cell_type": "markdown",
   "metadata": {
    "collapsed": true
   },
   "source": [
    "###  \n",
    "##  \n",
    "## Modeling"
   ]
  },
  {
   "cell_type": "code",
   "execution_count": 369,
   "metadata": {
    "collapsed": true
   },
   "outputs": [],
   "source": [
    "matrix_name = load_pickle(path+'matrix_name_02')\n",
    "matrix_description = load_pickle(path+'matrix_description_02')"
   ]
  },
  {
   "cell_type": "code",
   "execution_count": 358,
   "metadata": {
    "collapsed": true
   },
   "outputs": [],
   "source": [
    "df_copy = df_copy[df_copy['price']!=0]\n",
    "df_copy = df_copy[(df_copy['price']<1200) | (df_copy['price'].isnull())]"
   ]
  },
  {
   "cell_type": "code",
   "execution_count": 365,
   "metadata": {},
   "outputs": [
    {
     "data": {
      "text/plain": [
       "2174914"
      ]
     },
     "execution_count": 365,
     "metadata": {},
     "output_type": "execute_result"
    }
   ],
   "source": [
    "dff = df_copy.copy()\n",
    "len(dff)"
   ]
  },
  {
   "cell_type": "markdown",
   "metadata": {},
   "source": [
    "##### 모델에 넣을 수 있도록 encoding"
   ]
  },
  {
   "cell_type": "code",
   "execution_count": 360,
   "metadata": {},
   "outputs": [
    {
     "name": "stdout",
     "output_type": "stream",
     "text": [
      "Wall time: 5.27 s\n",
      "Wall time: 6.09 s\n",
      "Wall time: 6.4 s\n"
     ]
    }
   ],
   "source": [
    "dff['cat1'] = dff['cat1'].astype('category')\n",
    "dff['cat2'] = dff['cat2'].astype('category')\n",
    "dff['cat3'] = dff['cat3'].astype('category')\n",
    "dff['item_condition_id'] = dff['item_condition_id'].astype('category')\n",
    "\n",
    "cv = CountVectorizer()\n",
    "%time xcat1 = cv.fit_transform(dff['cat1'])\n",
    "%time xcat2 = cv.fit_transform(dff['cat2'])\n",
    "%time xcat3 = cv.fit_transform(dff['cat3'])"
   ]
  },
  {
   "cell_type": "code",
   "execution_count": 372,
   "metadata": {
    "collapsed": true
   },
   "outputs": [],
   "source": [
    "dff.to_csv(path+'df02.csv', index=False)"
   ]
  },
  {
   "cell_type": "code",
   "execution_count": 361,
   "metadata": {},
   "outputs": [
    {
     "name": "stdout",
     "output_type": "stream",
     "text": [
      "Wall time: 9.85 s\n"
     ]
    }
   ],
   "source": [
    "lb = LabelBinarizer(sparse_output=True)\n",
    "%time xbrand = lb.fit_transform(dff['brand_name'])"
   ]
  },
  {
   "cell_type": "code",
   "execution_count": 362,
   "metadata": {},
   "outputs": [
    {
     "name": "stdout",
     "output_type": "stream",
     "text": [
      "Wall time: 416 ms\n"
     ]
    }
   ],
   "source": [
    "lb2 = LabelBinarizer(sparse_output=True)\n",
    "%time xcondition = lb2.fit_transform(dff['item_condition_id'])"
   ]
  },
  {
   "cell_type": "code",
   "execution_count": 363,
   "metadata": {
    "collapsed": true
   },
   "outputs": [],
   "source": [
    "xshipping = csr_matrix(dff['shipping']).T"
   ]
  },
  {
   "cell_type": "code",
   "execution_count": 370,
   "metadata": {},
   "outputs": [
    {
     "name": "stdout",
     "output_type": "stream",
     "text": [
      "Wall time: 15.6 s\n"
     ]
    }
   ],
   "source": [
    "%time sparse = hstack((xcondition, matrix_description, xbrand, xcat1, xcat2, xcat3, matrix_name, xshipping)).tocsr()"
   ]
  },
  {
   "cell_type": "code",
   "execution_count": 367,
   "metadata": {},
   "outputs": [
    {
     "data": {
      "text/plain": [
       "<2175894x28161 sparse matrix of type '<class 'numpy.float64'>'\n",
       "\twith 34960579 stored elements in Compressed Sparse Row format>"
      ]
     },
     "execution_count": 367,
     "metadata": {},
     "output_type": "execute_result"
    }
   ],
   "source": [
    "matrix_description"
   ]
  },
  {
   "cell_type": "code",
   "execution_count": 384,
   "metadata": {
    "collapsed": true
   },
   "outputs": [],
   "source": [
    "df_copy.reset_index(inplace=True)\n",
    "df_copy[df_copy['price'].notnull()]\n",
    "train_id = df_copy[df_copy['train_id'].notnull()].index[-1]"
   ]
  },
  {
   "cell_type": "code",
   "execution_count": 385,
   "metadata": {},
   "outputs": [
    {
     "data": {
      "text/plain": [
       "1481554"
      ]
     },
     "execution_count": 385,
     "metadata": {},
     "output_type": "execute_result"
    }
   ],
   "source": [
    "train_id"
   ]
  },
  {
   "cell_type": "code",
   "execution_count": 386,
   "metadata": {
    "collapsed": true
   },
   "outputs": [],
   "source": [
    "X_train = sparse[:train_id+1]\n",
    "X_test = sparse[train_id+1:]\n",
    "y = df[df['train_id'].notnull()]['log_price']"
   ]
  },
  {
   "cell_type": "code",
   "execution_count": 387,
   "metadata": {},
   "outputs": [
    {
     "data": {
      "text/plain": [
       "<1481555x50433 sparse matrix of type '<class 'numpy.float64'>'\n",
       "\twith 39840405 stored elements in Compressed Sparse Row format>"
      ]
     },
     "execution_count": 387,
     "metadata": {},
     "output_type": "execute_result"
    }
   ],
   "source": [
    "X_train"
   ]
  },
  {
   "cell_type": "code",
   "execution_count": 339,
   "metadata": {
    "collapsed": true
   },
   "outputs": [],
   "source": [
    "def save_sparse_csr(filename,array):\n",
    "    np.savez(filename,data = array.data ,indices=array.indices,\n",
    "             indptr =array.indptr, shape=array.shape )\n",
    "save_sparse_csr(path+'test_sparse.txt', X_test)"
   ]
  },
  {
   "cell_type": "code",
   "execution_count": 340,
   "metadata": {
    "collapsed": true
   },
   "outputs": [],
   "source": [
    "x = hstack((y_train, X_train)).tocsr()"
   ]
  },
  {
   "cell_type": "code",
   "execution_count": 392,
   "metadata": {},
   "outputs": [
    {
     "name": "stdout",
     "output_type": "stream",
     "text": [
      " data lenth 18631821\n",
      " indices lenth 18631821\n",
      " indptr lenth 693360\n",
      " row : 500000 \n"
     ]
    }
   ],
   "source": [
    "fromsparsetofile(path+'test.txt', X_test)"
   ]
  }
 ],
 "metadata": {
  "kernelspec": {
   "display_name": "Python 3",
   "language": "python",
   "name": "python3"
  },
  "language_info": {
   "codemirror_mode": {
    "name": "ipython",
    "version": 3
   },
   "file_extension": ".py",
   "mimetype": "text/x-python",
   "name": "python",
   "nbconvert_exporter": "python",
   "pygments_lexer": "ipython3",
   "version": "3.6.3"
  }
 },
 "nbformat": 4,
 "nbformat_minor": 2
}
